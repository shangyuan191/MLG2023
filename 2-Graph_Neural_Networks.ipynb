{
 "cells": [
  {
   "cell_type": "markdown",
   "id": "8f4a91d8",
   "metadata": {
    "id": "8f4a91d8"
   },
   "source": [
    "# Hands on tutorial of Graph Representation Learning\n",
    "\n",
    "In this lecture, we will go through the following topics\n",
    "1. Graph structued data in Python\n",
    "2. GNN package - Pytorch-Geometric introduction\n",
    "3. Representation in Graphs - node2vec, GCN\n",
    "4. GNN with downstrean tasks\n",
    "5. GNN for text classification\n"
   ]
  },
  {
   "cell_type": "code",
   "execution_count": 1,
   "id": "fb43d373",
   "metadata": {
    "colab": {
     "base_uri": "https://localhost:8080/"
    },
    "executionInfo": {
     "elapsed": 25952,
     "status": "ok",
     "timestamp": 1663384864744,
     "user": {
      "displayName": "Yu-Che Tsai",
      "userId": "11097797349614937936"
     },
     "user_tz": -480
    },
    "id": "fb43d373",
    "outputId": "836e9449-86ab-48cd-d998-5fd0622d55a1"
   },
   "outputs": [
    {
     "name": "stdout",
     "output_type": "stream",
     "text": [
      "2.2.1\n"
     ]
    }
   ],
   "source": [
    "import os\n",
    "import torch\n",
    "import torch.nn as nn\n",
    "import numpy as np\n",
    "os.environ['TORCH'] = torch.__version__\n",
    "print(torch.__version__)\n",
    "\n",
    "# !pip install -q torch-scatter -f https://data.pyg.org/whl/torch-${TORCH}.html\n",
    "# !pip install -q torch-sparse -f https://data.pyg.org/whl/torch-${TORCH}.html\n",
    "# !pip install -q git+https://github.com/pyg-team/pytorch_geometric.git\n",
    "# !pip install -q torch-cluster -f https://data.pyg.org/whl/torch-${TORCH}.html\n",
    "\n",
    "import torch_cluster\n",
    "import os.path as osp\n",
    "from torch_geometric.datasets import Planetoid\n",
    "from torch_geometric.transforms import NormalizeFeatures"
   ]
  },
  {
   "cell_type": "markdown",
   "id": "3TuxbsNu9MQb",
   "metadata": {
    "id": "3TuxbsNu9MQb"
   },
   "source": [
    "## Obtaining node embedding with Graph Neural Network\n",
    "For a GNN layer, Message Passing is defined as the process of taking node features of the neighbours, transforming them, and \"passing\" them to the source node. This process is repeated, in parallel, for all nodes in the graph. In that way, all neighbourhoods are examined by the end of this step.\n",
    "\n",
    "### Node2vec v.s. GNN\n",
    "Previously, we learned how to obtain node embedding with Node2vec. However, Node2vec uses the embedding layer as the node feature **without considering the node feature**. GNN, on the contrary, adopts a different way to learn node embedding via the so-called **Message Passing** function or **Neighbor Aggregation** operation which obtains embedding by aggregating information from neighboring nodes.\n",
    "\n",
    "### A simple GNN\n",
    "Let first build a bisic GNN to demonstrate the message passing of GNN.\n",
    "The node embedding of each node is defined as follows:\n",
    "\n",
    "\\begin{equation}\n",
    "z^k_i = \\sum_{j\\in N(i)} z^{k-1}_j\n",
    "\\end{equation}\n",
    "\n",
    "![](https://i.imgur.com/77VBsTd.png)"
   ]
  },
  {
   "cell_type": "code",
   "execution_count": 2,
   "id": "QFNz6jJF9MQc",
   "metadata": {
    "executionInfo": {
     "elapsed": 264,
     "status": "ok",
     "timestamp": 1663385050017,
     "user": {
      "displayName": "Yu-Che Tsai",
      "userId": "11097797349614937936"
     },
     "user_tz": -480
    },
    "id": "QFNz6jJF9MQc"
   },
   "outputs": [],
   "source": [
    "from torch_geometric.nn import MessagePassing"
   ]
  },
  {
   "cell_type": "code",
   "execution_count": 3,
   "id": "gGse1UQ69MQc",
   "metadata": {
    "executionInfo": {
     "elapsed": 269,
     "status": "ok",
     "timestamp": 1663385056203,
     "user": {
      "displayName": "Yu-Che Tsai",
      "userId": "11097797349614937936"
     },
     "user_tz": -480
    },
    "id": "gGse1UQ69MQc"
   },
   "outputs": [],
   "source": [
    "class SimpleGNN(MessagePassing):\n",
    "    def __init__(self,aggr=\"sum\"):\n",
    "        super().__init__(aggr=aggr)\n",
    "\n",
    "    def forward(self, x, edge_index):\n",
    "        return self.propagate(edge_index,x=x)"
   ]
  },
  {
   "cell_type": "code",
   "execution_count": 4,
   "id": "bteXtTOx9MQd",
   "metadata": {
    "colab": {
     "base_uri": "https://localhost:8080/"
    },
    "executionInfo": {
     "elapsed": 269,
     "status": "ok",
     "timestamp": 1663385155204,
     "user": {
      "displayName": "Yu-Che Tsai",
      "userId": "11097797349614937936"
     },
     "user_tz": -480
    },
    "id": "bteXtTOx9MQd",
    "outputId": "cf1603ca-e122-451d-a9c7-53a08a11bfd6"
   },
   "outputs": [
    {
     "name": "stdout",
     "output_type": "stream",
     "text": [
      "tensor([[0., 1., 2.],\n",
      "        [3., 4., 5.],\n",
      "        [6., 7., 8.]])\n"
     ]
    }
   ],
   "source": [
    "x = torch.arange(9).reshape(3,3).float()\n",
    "edge_index = [[0,1],[2,1]]\n",
    "edge_index = torch.tensor(edge_index).T\n",
    "print(x)"
   ]
  },
  {
   "cell_type": "code",
   "execution_count": 6,
   "id": "NbsHSbID9MQd",
   "metadata": {
    "colab": {
     "base_uri": "https://localhost:8080/"
    },
    "executionInfo": {
     "elapsed": 299,
     "status": "ok",
     "timestamp": 1663385196185,
     "user": {
      "displayName": "Yu-Che Tsai",
      "userId": "11097797349614937936"
     },
     "user_tz": -480
    },
    "id": "NbsHSbID9MQd",
    "outputId": "d9de91d1-8539-4475-8cf7-e22db93b1789"
   },
   "outputs": [
    {
     "data": {
      "text/plain": [
       "tensor([[ 0.,  0.,  0.],\n",
       "        [ 6.,  8., 10.],\n",
       "        [ 0.,  0.,  0.]])"
      ]
     },
     "execution_count": 6,
     "metadata": {},
     "output_type": "execute_result"
    }
   ],
   "source": [
    "model = SimpleGNN()\n",
    "model\n",
    "model(x,edge_index)"
   ]
  },
  {
   "cell_type": "markdown",
   "id": "FIqPaDIw9MQe",
   "metadata": {
    "id": "FIqPaDIw9MQe"
   },
   "source": [
    "### Bidrectional edges"
   ]
  },
  {
   "cell_type": "code",
   "execution_count": 7,
   "id": "8XxAMwPU9MQe",
   "metadata": {
    "colab": {
     "base_uri": "https://localhost:8080/"
    },
    "executionInfo": {
     "elapsed": 302,
     "status": "ok",
     "timestamp": 1663385236427,
     "user": {
      "displayName": "Yu-Che Tsai",
      "userId": "11097797349614937936"
     },
     "user_tz": -480
    },
    "id": "8XxAMwPU9MQe",
    "outputId": "4637a8c3-8517-4caa-914d-53a03ada760c"
   },
   "outputs": [
    {
     "name": "stdout",
     "output_type": "stream",
     "text": [
      "tensor([[0, 1, 1, 2],\n",
      "        [1, 0, 2, 1]])\n"
     ]
    }
   ],
   "source": [
    "from torch_geometric.utils import to_undirected\n",
    "edge_index = to_undirected(edge_index)\n",
    "print(edge_index)"
   ]
  },
  {
   "cell_type": "code",
   "execution_count": 8,
   "id": "e36tnNo49MQf",
   "metadata": {
    "colab": {
     "base_uri": "https://localhost:8080/"
    },
    "executionInfo": {
     "elapsed": 296,
     "status": "ok",
     "timestamp": 1663385253129,
     "user": {
      "displayName": "Yu-Che Tsai",
      "userId": "11097797349614937936"
     },
     "user_tz": -480
    },
    "id": "e36tnNo49MQf",
    "outputId": "fc9193c9-9bd5-4938-8f64-613bf65c82cb"
   },
   "outputs": [
    {
     "data": {
      "text/plain": [
       "tensor([[ 3.,  4.,  5.],\n",
       "        [ 6.,  8., 10.],\n",
       "        [ 3.,  4.,  5.]])"
      ]
     },
     "execution_count": 8,
     "metadata": {},
     "output_type": "execute_result"
    }
   ],
   "source": [
    "model = SimpleGNN()\n",
    "model\n",
    "model(x,edge_index)"
   ]
  },
  {
   "cell_type": "markdown",
   "id": "unVYOG_F9MQf",
   "metadata": {
    "id": "unVYOG_F9MQf"
   },
   "source": [
    "### Adding self-connection\n",
    "![](https://i.imgur.com/h2x1Qq5.png)"
   ]
  },
  {
   "cell_type": "code",
   "execution_count": 9,
   "id": "3iBjGCBu9MQg",
   "metadata": {
    "colab": {
     "base_uri": "https://localhost:8080/"
    },
    "executionInfo": {
     "elapsed": 287,
     "status": "ok",
     "timestamp": 1663385344323,
     "user": {
      "displayName": "Yu-Che Tsai",
      "userId": "11097797349614937936"
     },
     "user_tz": -480
    },
    "id": "3iBjGCBu9MQg",
    "outputId": "f9e50963-c390-456d-d216-db116a3ef98a"
   },
   "outputs": [
    {
     "name": "stdout",
     "output_type": "stream",
     "text": [
      "tensor([[0., 1., 2.],\n",
      "        [3., 4., 5.],\n",
      "        [6., 7., 8.]])\n"
     ]
    }
   ],
   "source": [
    "x = torch.arange(9).reshape(3,3).float()\n",
    "edge_index = [[0,1],[2,1]] + [[0,0],[1,1],[2,2]]\n",
    "edge_index = torch.tensor(edge_index).T\n",
    "print(x)"
   ]
  },
  {
   "cell_type": "code",
   "execution_count": 10,
   "id": "7sWvtzxS9MQg",
   "metadata": {
    "colab": {
     "base_uri": "https://localhost:8080/"
    },
    "executionInfo": {
     "elapsed": 261,
     "status": "ok",
     "timestamp": 1663385362482,
     "user": {
      "displayName": "Yu-Che Tsai",
      "userId": "11097797349614937936"
     },
     "user_tz": -480
    },
    "id": "7sWvtzxS9MQg",
    "outputId": "1263e0b3-2de5-4325-e902-d8423ea93bd3"
   },
   "outputs": [
    {
     "data": {
      "text/plain": [
       "tensor([[ 0.,  1.,  2.],\n",
       "        [ 9., 12., 15.],\n",
       "        [ 6.,  7.,  8.]])"
      ]
     },
     "execution_count": 10,
     "metadata": {},
     "output_type": "execute_result"
    }
   ],
   "source": [
    "model = SimpleGNN()\n",
    "model(x,edge_index)"
   ]
  },
  {
   "cell_type": "markdown",
   "id": "3jxAMtWa9MQg",
   "metadata": {
    "id": "3jxAMtWa9MQg"
   },
   "source": [
    "### Advance implementation of self-connection"
   ]
  },
  {
   "cell_type": "code",
   "execution_count": 11,
   "id": "3i7BgQis9MQg",
   "metadata": {
    "executionInfo": {
     "elapsed": 272,
     "status": "ok",
     "timestamp": 1663385425647,
     "user": {
      "displayName": "Yu-Che Tsai",
      "userId": "11097797349614937936"
     },
     "user_tz": -480
    },
    "id": "3i7BgQis9MQg"
   },
   "outputs": [],
   "source": [
    "# another way to implement self-connection\n",
    "class SimpleGNN(MessagePassing):\n",
    "    def __init__(self,aggr=\"sum\"):\n",
    "        super().__init__(aggr=aggr)\n",
    "\n",
    "    def forward(self, x, edge_index):\n",
    "        print(x)\n",
    "        return self.propagate(edge_index,x=x) + x"
   ]
  },
  {
   "cell_type": "code",
   "execution_count": 13,
   "id": "z6RmGkdc9MQh",
   "metadata": {
    "colab": {
     "base_uri": "https://localhost:8080/"
    },
    "executionInfo": {
     "elapsed": 4,
     "status": "ok",
     "timestamp": 1663385426847,
     "user": {
      "displayName": "Yu-Che Tsai",
      "userId": "11097797349614937936"
     },
     "user_tz": -480
    },
    "id": "z6RmGkdc9MQh",
    "outputId": "8ed5a834-6529-44c5-9fb6-14d7cdf36f3d"
   },
   "outputs": [
    {
     "name": "stdout",
     "output_type": "stream",
     "text": [
      "tensor([[0, 1, 2],\n",
      "        [3, 4, 5],\n",
      "        [6, 7, 8]])\n",
      "tensor([[0, 1, 2],\n",
      "        [3, 4, 5],\n",
      "        [6, 7, 8]])\n"
     ]
    },
    {
     "data": {
      "text/plain": [
       "tensor([[ 0,  1,  2],\n",
       "        [ 9, 12, 15],\n",
       "        [ 6,  7,  8]])"
      ]
     },
     "execution_count": 13,
     "metadata": {},
     "output_type": "execute_result"
    }
   ],
   "source": [
    "x = torch.arange(9).reshape(3,3)\n",
    "edge_index = [[0,1],[2,1]]\n",
    "edge_index = torch.tensor(edge_index).T\n",
    "print(x)\n",
    "\n",
    "model = SimpleGNN()\n",
    "model(x,edge_index)"
   ]
  },
  {
   "cell_type": "markdown",
   "id": "TrAjuTRf9MQh",
   "metadata": {
    "id": "TrAjuTRf9MQh"
   },
   "source": [
    "###  More common usage: bidirectional edges with self-connection"
   ]
  },
  {
   "cell_type": "code",
   "execution_count": 15,
   "id": "6WD3niZq9MQh",
   "metadata": {
    "colab": {
     "base_uri": "https://localhost:8080/"
    },
    "executionInfo": {
     "elapsed": 283,
     "status": "ok",
     "timestamp": 1663385461573,
     "user": {
      "displayName": "Yu-Che Tsai",
      "userId": "11097797349614937936"
     },
     "user_tz": -480
    },
    "id": "6WD3niZq9MQh",
    "outputId": "687551ce-5ec9-4f7e-e3bd-bce11854fd87"
   },
   "outputs": [
    {
     "name": "stdout",
     "output_type": "stream",
     "text": [
      "tensor([[0, 1, 1, 2],\n",
      "        [1, 0, 2, 1]])\n",
      "tensor([[0., 1., 2.],\n",
      "        [3., 4., 5.],\n",
      "        [6., 7., 8.]])\n",
      "tensor([[0., 1., 2.],\n",
      "        [3., 4., 5.],\n",
      "        [6., 7., 8.]])\n"
     ]
    },
    {
     "data": {
      "text/plain": [
       "tensor([[ 3.,  5.,  7.],\n",
       "        [ 9., 12., 15.],\n",
       "        [ 9., 11., 13.]])"
      ]
     },
     "execution_count": 15,
     "metadata": {},
     "output_type": "execute_result"
    }
   ],
   "source": [
    "# bidirectional edges with self-connection\n",
    "x = torch.arange(9).reshape(3,3).float()\n",
    "edge_index = [[0,1],[2,1]]\n",
    "edge_index = torch.tensor(edge_index).T\n",
    "edge_index = to_undirected(edge_index)\n",
    "print(edge_index)\n",
    "print(x)\n",
    "\n",
    "model = SimpleGNN()\n",
    "model(x,edge_index)"
   ]
  },
  {
   "cell_type": "markdown",
   "id": "PWnS8RK49MQh",
   "metadata": {
    "id": "PWnS8RK49MQh"
   },
   "source": [
    "### Differnt pooling function\n",
    "There are various pooling function you can choose during the message passing stage to control how those information was aggregated. <br>\n",
    "**Sum, Mean and Max Pooling** are the most common and widely used operation."
   ]
  },
  {
   "cell_type": "code",
   "execution_count": 16,
   "id": "RFY4nRle9MQi",
   "metadata": {
    "executionInfo": {
     "elapsed": 280,
     "status": "ok",
     "timestamp": 1663385564842,
     "user": {
      "displayName": "Yu-Che Tsai",
      "userId": "11097797349614937936"
     },
     "user_tz": -480
    },
    "id": "RFY4nRle9MQi"
   },
   "outputs": [],
   "source": [
    "# another way to implement self-connection\n",
    "class SimpleGNN(MessagePassing):\n",
    "    def __init__(self,**kwagrs):\n",
    "        super().__init__(**kwagrs)\n",
    "\n",
    "    def forward(self, x, edge_index):\n",
    "        return self.propagate(edge_index,x=x)"
   ]
  },
  {
   "cell_type": "code",
   "execution_count": 17,
   "id": "QVfzKjts9MQi",
   "metadata": {
    "colab": {
     "base_uri": "https://localhost:8080/"
    },
    "executionInfo": {
     "elapsed": 7,
     "status": "ok",
     "timestamp": 1663385565690,
     "user": {
      "displayName": "Yu-Che Tsai",
      "userId": "11097797349614937936"
     },
     "user_tz": -480
    },
    "id": "QVfzKjts9MQi",
    "outputId": "13fe0221-643e-4c94-e404-4fa5d87d5e2e"
   },
   "outputs": [
    {
     "name": "stdout",
     "output_type": "stream",
     "text": [
      "tensor([[0., 1., 2.],\n",
      "        [3., 4., 5.],\n",
      "        [6., 7., 8.]])\n",
      "Results of sum pooling...\n",
      "tensor([[ 3.,  5.,  7.],\n",
      "        [ 9., 12., 15.],\n",
      "        [ 9., 11., 13.]])\n",
      "------------------------------\n",
      "Results of mean pooling...\n",
      "tensor([[1.5000, 2.5000, 3.5000],\n",
      "        [3.0000, 4.0000, 5.0000],\n",
      "        [4.5000, 5.5000, 6.5000]])\n",
      "------------------------------\n",
      "Results of max pooling...\n",
      "tensor([[3., 4., 5.],\n",
      "        [6., 7., 8.],\n",
      "        [6., 7., 8.]])\n",
      "------------------------------\n"
     ]
    }
   ],
   "source": [
    "# bidirectional edges with self-connection\n",
    "x = torch.arange(9).reshape(3,3).float()\n",
    "edge_index = [[0,1],[2,1]] + [[0,0],[1,1],[2,2]]\n",
    "edge_index = torch.tensor(edge_index).T\n",
    "edge_index = to_undirected(edge_index)\n",
    "print(x)\n",
    "\n",
    "# sum pooling\n",
    "model = SimpleGNN(aggr=\"sum\")\n",
    "print(\"Results of sum pooling...\")\n",
    "print(model(x,edge_index))\n",
    "print(\"-\"*30)\n",
    "\n",
    "# mean pooling\n",
    "model = SimpleGNN(aggr=\"mean\")\n",
    "print(\"Results of mean pooling...\")\n",
    "print(model(x,edge_index))\n",
    "print(\"-\"*30)\n",
    "\n",
    "# sum pooling\n",
    "model = SimpleGNN(aggr=\"max\")\n",
    "print(\"Results of max pooling...\")\n",
    "print(model(x,edge_index))\n",
    "print(\"-\"*30)"
   ]
  },
  {
   "cell_type": "markdown",
   "id": "sSOiQJTN9MQi",
   "metadata": {
    "id": "sSOiQJTN9MQi"
   },
   "source": [
    "### The most powerful techniques of GNN: Exploring multi-hop neighbor by stacking GNN layers"
   ]
  },
  {
   "cell_type": "code",
   "execution_count": 20,
   "id": "mPaW0SVX9MQi",
   "metadata": {
    "colab": {
     "base_uri": "https://localhost:8080/"
    },
    "executionInfo": {
     "elapsed": 283,
     "status": "ok",
     "timestamp": 1663385773147,
     "user": {
      "displayName": "Yu-Che Tsai",
      "userId": "11097797349614937936"
     },
     "user_tz": -480
    },
    "id": "mPaW0SVX9MQi",
    "outputId": "431b1ac1-8680-4318-ed9f-be2b7961ecb4"
   },
   "outputs": [
    {
     "name": "stdout",
     "output_type": "stream",
     "text": [
      "tensor([[0., 1., 2.],\n",
      "        [3., 4., 5.],\n",
      "        [6., 7., 8.]])\n",
      "Embedding after first message passing...\n",
      "tensor([[ 3.,  4.,  5.],\n",
      "        [ 6.,  8., 10.],\n",
      "        [ 3.,  4.,  5.]])\n",
      "Embedding after second message passing...\n",
      "tensor([[ 6.,  8., 10.],\n",
      "        [ 6.,  8., 10.],\n",
      "        [ 6.,  8., 10.]])\n"
     ]
    }
   ],
   "source": [
    "# bidirectional edges \n",
    "x = torch.arange(9).reshape(3,3).float()\n",
    "edge_index = [[0,1],[2,1]]\n",
    "edge_index = torch.tensor(edge_index).T\n",
    "edge_index = to_undirected(edge_index)\n",
    "model = SimpleGNN(aggr=\"sum\")\n",
    "print(x)\n",
    "# first-hop neighbor\n",
    "print(\"Embedding after first message passing...\")\n",
    "first_embedding = model(x,edge_index)\n",
    "print(first_embedding)\n",
    "\n",
    "# second-hop neighbor\n",
    "print(\"Embedding after second message passing...\")\n",
    "second_embedding = model(first_embedding,edge_index)\n",
    "print(second_embedding)"
   ]
  },
  {
   "cell_type": "code",
   "execution_count": 22,
   "id": "ts1JNme69MQi",
   "metadata": {
    "colab": {
     "base_uri": "https://localhost:8080/"
    },
    "executionInfo": {
     "elapsed": 267,
     "status": "ok",
     "timestamp": 1663385845182,
     "user": {
      "displayName": "Yu-Che Tsai",
      "userId": "11097797349614937936"
     },
     "user_tz": -480
    },
    "id": "ts1JNme69MQi",
    "outputId": "3f4450ac-4977-4d88-c253-47beaf8f40c7"
   },
   "outputs": [
    {
     "name": "stdout",
     "output_type": "stream",
     "text": [
      "tensor([[0., 1., 2.],\n",
      "        [3., 4., 5.],\n",
      "        [6., 7., 8.]])\n",
      "Embedding after first message passing...\n",
      "tensor([[ 3.,  5.,  7.],\n",
      "        [ 9., 12., 15.],\n",
      "        [ 9., 11., 13.]])\n",
      "Embedding after second message passing...\n",
      "tensor([[12., 17., 22.],\n",
      "        [21., 28., 35.],\n",
      "        [18., 23., 28.]])\n"
     ]
    }
   ],
   "source": [
    "# bidirectional edges with self-connection\n",
    "x = torch.arange(9).reshape(3,3).float()\n",
    "edge_index = [[0,1],[2,1]] + [[0,0],[1,1],[2,2]]\n",
    "edge_index = torch.tensor(edge_index).T\n",
    "edge_index = to_undirected(edge_index)\n",
    "model = SimpleGNN(aggr=\"sum\")\n",
    "print(x)\n",
    "# first-hop neighbor\n",
    "print(\"Embedding after first message passing...\")\n",
    "first_embedding = model(x,edge_index)\n",
    "print(first_embedding)\n",
    "\n",
    "# second-hop neighbor\n",
    "print(\"Embedding after second message passing...\")\n",
    "second_embedding = model(first_embedding,edge_index)\n",
    "print(second_embedding)"
   ]
  },
  {
   "cell_type": "code",
   "execution_count": 23,
   "id": "nWHE8G5j9MQj",
   "metadata": {
    "id": "nWHE8G5j9MQj"
   },
   "outputs": [],
   "source": [
    "# another way to implement multi-hop message passing\n",
    "class SimpleGNN(MessagePassing):\n",
    "    def __init__(self,n_layers=1,**kwagrs):\n",
    "        super().__init__(**kwagrs)\n",
    "        self.n_layers = n_layers\n",
    "\n",
    "    def forward(self, x, edge_index):\n",
    "        for _ in range(self.n_layers):\n",
    "            x = self.propagate(edge_index,x=x)\n",
    "        return x"
   ]
  },
  {
   "cell_type": "code",
   "execution_count": 24,
   "id": "98tZ2CCV9MQj",
   "metadata": {
    "colab": {
     "base_uri": "https://localhost:8080/"
    },
    "executionInfo": {
     "elapsed": 293,
     "status": "ok",
     "timestamp": 1663385954084,
     "user": {
      "displayName": "Yu-Che Tsai",
      "userId": "11097797349614937936"
     },
     "user_tz": -480
    },
    "id": "98tZ2CCV9MQj",
    "outputId": "562baaba-4d02-4c28-f5d6-2c9d87f19484"
   },
   "outputs": [
    {
     "name": "stdout",
     "output_type": "stream",
     "text": [
      "Embedding after first message passing...\n",
      "tensor([[ 3.,  5.,  7.],\n",
      "        [ 9., 12., 15.],\n",
      "        [ 9., 11., 13.]])\n",
      "Embedding after second message passing...\n",
      "tensor([[12., 17., 22.],\n",
      "        [21., 28., 35.],\n",
      "        [18., 23., 28.]])\n"
     ]
    }
   ],
   "source": [
    "# bidirectional edges with self-connection\n",
    "x = torch.arange(9).reshape(3,3).float()\n",
    "edge_index = [[0,1],[2,1]] + [[0,0],[1,1],[2,2]]\n",
    "edge_index = torch.tensor(edge_index).T\n",
    "edge_index = to_undirected(edge_index)\n",
    "\n",
    "# first-hop neighbor\n",
    "print(\"Embedding after first message passing...\")\n",
    "model = SimpleGNN(n_layers=1,aggr=\"sum\")\n",
    "first_embedding = model(x,edge_index)\n",
    "print(first_embedding)\n",
    "\n",
    "# second-hop neighbor\n",
    "print(\"Embedding after second message passing...\")\n",
    "model = SimpleGNN(n_layers=2,aggr=\"sum\")\n",
    "second_embedding = model(x,edge_index)\n",
    "print(second_embedding)"
   ]
  },
  {
   "cell_type": "code",
   "execution_count": 25,
   "id": "c4de663f",
   "metadata": {},
   "outputs": [
    {
     "name": "stdout",
     "output_type": "stream",
     "text": [
      "Embedding after second message passing...\n",
      "tensor([[17220., 22961., 28702.],\n",
      "        [24357., 32476., 40595.],\n",
      "        [17226., 22967., 28708.]])\n"
     ]
    }
   ],
   "source": [
    "# multi-hop neighbor\n",
    "print(\"Embedding after second message passing...\")\n",
    "model = SimpleGNN(n_layers=10,aggr=\"sum\")\n",
    "second_embedding = model(x,edge_index)\n",
    "print(second_embedding)"
   ]
  },
  {
   "cell_type": "markdown",
   "id": "-z9mZ05i9MQj",
   "metadata": {
    "id": "-z9mZ05i9MQj"
   },
   "source": [
    "### Nueral Networks in GNN"
   ]
  },
  {
   "cell_type": "code",
   "execution_count": 26,
   "id": "x7J_vQ3C9MQj",
   "metadata": {
    "executionInfo": {
     "elapsed": 291,
     "status": "ok",
     "timestamp": 1663386005897,
     "user": {
      "displayName": "Yu-Che Tsai",
      "userId": "11097797349614937936"
     },
     "user_tz": -480
    },
    "id": "x7J_vQ3C9MQj"
   },
   "outputs": [],
   "source": [
    "# another way to implement multi-hop message passing\n",
    "class CoolGNN(MessagePassing):\n",
    "    def __init__(self,n_layers=1,**kwagrs):\n",
    "        super().__init__(**kwagrs)\n",
    "        self.n_layers = n_layers\n",
    "        self.nn_layers = nn.ModuleList([nn.Linear(3,3) for _ in range(self.n_layers)])\n",
    "\n",
    "    def forward(self, x, edge_index):\n",
    "        for i in range(self.n_layers):\n",
    "            x = self.nn_layers[i](self.propagate(edge_index,x=x))\n",
    "            x = torch.relu(x)\n",
    "        return x"
   ]
  },
  {
   "cell_type": "code",
   "execution_count": 27,
   "id": "i66Rq-_o9MQj",
   "metadata": {
    "colab": {
     "base_uri": "https://localhost:8080/"
    },
    "executionInfo": {
     "elapsed": 341,
     "status": "ok",
     "timestamp": 1663386056950,
     "user": {
      "displayName": "Yu-Che Tsai",
      "userId": "11097797349614937936"
     },
     "user_tz": -480
    },
    "id": "i66Rq-_o9MQj",
    "outputId": "eddd48cc-71a7-4768-e4b1-efede549a26a"
   },
   "outputs": [
    {
     "name": "stdout",
     "output_type": "stream",
     "text": [
      "Embedding after first message passing...\n",
      "tensor([[0.0000, 0.0000, 2.8777],\n",
      "        [0.0000, 0.0000, 5.1110],\n",
      "        [0.0000, 0.0000, 4.2849]], grad_fn=<ReluBackward0>)\n",
      "Embedding after second message passing...\n",
      "tensor([[ 6.2564,  1.8328,  7.6890],\n",
      "        [10.9392,  3.0531, 12.2015],\n",
      "        [ 8.9492,  2.5327,  9.7289]], grad_fn=<ReluBackward0>)\n"
     ]
    }
   ],
   "source": [
    "# bidirectional edges with self-connection\n",
    "x = torch.arange(9).reshape(3,3).float()\n",
    "edge_index = [[0,1],[2,1]] + [[0,0],[1,1],[2,2]]\n",
    "edge_index = torch.tensor(edge_index).T\n",
    "edge_index = to_undirected(edge_index)\n",
    "\n",
    "# first-hop neighbor\n",
    "print(\"Embedding after first message passing...\")\n",
    "model = CoolGNN(n_layers=1,aggr=\"sum\")\n",
    "first_embedding = model(x,edge_index)\n",
    "print(first_embedding)\n",
    "\n",
    "# second-hop neighbor\n",
    "print(\"Embedding after second message passing...\")\n",
    "model = CoolGNN(n_layers=2,aggr=\"sum\")\n",
    "second_embedding = model(x,edge_index)\n",
    "print(second_embedding)"
   ]
  },
  {
   "cell_type": "code",
   "execution_count": 28,
   "id": "-kGGDBxP9MQj",
   "metadata": {
    "colab": {
     "base_uri": "https://localhost:8080/"
    },
    "executionInfo": {
     "elapsed": 311,
     "status": "ok",
     "timestamp": 1663386131060,
     "user": {
      "displayName": "Yu-Che Tsai",
      "userId": "11097797349614937936"
     },
     "user_tz": -480
    },
    "id": "-kGGDBxP9MQj",
    "outputId": "a591c027-29e4-472f-f13a-a0bbac1088c9"
   },
   "outputs": [
    {
     "name": "stdout",
     "output_type": "stream",
     "text": [
      "tensor([[0., 1., 2.],\n",
      "        [3., 4., 5.],\n",
      "        [6., 7., 8.]])\n",
      "tensor([[0, 0, 1, 1, 1, 2, 2],\n",
      "        [0, 1, 0, 1, 2, 1, 2]])\n",
      "tensor([[ -0.5357,   3.8771,  -0.3024,  -1.1292,   0.1200,   1.1355,  -3.9670,\n",
      "          -1.0765,  -0.6980,  -0.0885,  -2.4997,  -1.3338,  -0.1485,   1.2537,\n",
      "          -0.1221,  -1.7636],\n",
      "        [  0.0738,   5.4967,  -0.5369,  -1.0734,   1.3499,   0.8673,  -7.5815,\n",
      "          -2.3885,  -2.5840,   1.0328,  -6.3315,  -1.1962,  -0.9050,   2.3035,\n",
      "          -0.7748,  -4.7174],\n",
      "        [  0.6833,   7.1163,  -0.7714,  -1.0176,   2.5799,   0.5992, -11.1961,\n",
      "          -3.7006,  -4.4699,   2.1541, -10.1634,  -1.0586,  -1.6615,   3.3534,\n",
      "          -1.4274,  -7.6711]], grad_fn=<AddBackward0>)\n"
     ]
    }
   ],
   "source": [
    "# using off-the-shelf GNN models\n",
    "from torch_geometric.nn import GCNConv, SAGEConv\n",
    "print(x)\n",
    "print(edge_index)\n",
    "model = SAGEConv(in_channels=3,out_channels=16)\n",
    "embedding = model(x,edge_index)\n",
    "print(embedding)"
   ]
  },
  {
   "cell_type": "markdown",
   "id": "14771a3a",
   "metadata": {
    "id": "14771a3a"
   },
   "source": [
    "## Unsupervised GRL with GraphSAGE\n",
    "Previously, we mentioned that Node2vec outperform MLP in semi-supervised node classification task.<br>\n",
    "However, including both node feature and graph embedding did not boost the performance significantly. <br>\n",
    "Here, we introduce the `GraphSAGE` that is a GNN based approach to model node feature and graph structure at the same time.\n",
    "\n",
    "GraphSAGE stands for Graph **SA**mple and Aggre**G**at**E**. It's a model to generate node embeddings for large, very dense graphs (to be used at companies like Pinterest).\n",
    "\n",
    "The work introduces learned aggregators on a node's neighbourhoods. Unlike traditional GATs or GCNs that consider all nodes in the neighbourhood, GraphSAGE uniformly samples the neighbours and uses the learned aggregators on them. \n",
    "\n",
    "Suppose we have $L$ layers in the network (depth), each layer $l \\in \\{1,\\dots,L\\}$ looks at a larger $l$-hop neighbourhood w.r.t. the source node (as one would expect). Each source node is then updated by concatenating the node embedding with the sampled messages before being passed through a MLP $F$ and non-linearity $\\sigma$. \n",
    "\n",
    "For a certain layer $l$,\n",
    "\n",
    "\\begin{equation}\n",
    "h_v^{(l)} = W_l\\cdot h_v^{(l-1)} + W_r \\cdot AGG(\\{h_u^{(l-1)}, \\forall u \\in N(v) \\})\n",
    "\\end{equation}\n",
    "\n",
    "A simple mean aggregator could be:\n",
    "\\begin{equation}\n",
    "AGG(\\{h_u^{(l-1)}, \\forall u \\in N(v) \\}) = \\frac{1}{|N(v)|} \\sum_{u\\in N(v)} h_u^{(l-1)}\n",
    "\\end{equation}\n",
    "\n",
    "There are supervised and unsupervised learning framework for GraphSAGE. <br>\n",
    "Here we present the unsupervised learning scheme which optimize the following objective:\n",
    "\\begin{equation}\n",
    "\\log \\left ( \\sigma (h_u^{\\top} h_v)  \\right) - \\sum_{i=1}^k \\log \\left ( \\sigma (h_u^{\\top} h_{n_i})  \\right), n_i \\sim P_V\n",
    "\\end{equation}\n",
    "![](https://snap.stanford.edu/graphsage/sample_and_agg.png)"
   ]
  },
  {
   "cell_type": "code",
   "execution_count": 23,
   "id": "YbBjup3U9MQk",
   "metadata": {
    "colab": {
     "base_uri": "https://localhost:8080/"
    },
    "executionInfo": {
     "elapsed": 3020,
     "status": "ok",
     "timestamp": 1663386340276,
     "user": {
      "displayName": "Yu-Che Tsai",
      "userId": "11097797349614937936"
     },
     "user_tz": -480
    },
    "id": "YbBjup3U9MQk",
    "outputId": "465f6186-36da-486b-c75f-aceb8876cb54"
   },
   "outputs": [
    {
     "name": "stderr",
     "output_type": "stream",
     "text": [
      "Downloading https://github.com/kimiyoung/planetoid/raw/master/data/ind.cora.x\n",
      "Downloading https://github.com/kimiyoung/planetoid/raw/master/data/ind.cora.tx\n",
      "Downloading https://github.com/kimiyoung/planetoid/raw/master/data/ind.cora.allx\n",
      "Downloading https://github.com/kimiyoung/planetoid/raw/master/data/ind.cora.y\n",
      "Downloading https://github.com/kimiyoung/planetoid/raw/master/data/ind.cora.ty\n",
      "Downloading https://github.com/kimiyoung/planetoid/raw/master/data/ind.cora.ally\n",
      "Downloading https://github.com/kimiyoung/planetoid/raw/master/data/ind.cora.graph\n",
      "Downloading https://github.com/kimiyoung/planetoid/raw/master/data/ind.cora.test.index\n",
      "Processing...\n",
      "Done!\n"
     ]
    }
   ],
   "source": [
    "device = torch.device('cuda' if torch.cuda.is_available() else 'cpu')\n",
    "\n",
    "dataset = 'Cora'\n",
    "path = osp.join('.', 'data', dataset)\n",
    "dataset = Planetoid(root=path, name='Cora', transform=NormalizeFeatures())\n",
    "data = dataset[0]"
   ]
  },
  {
   "cell_type": "code",
   "execution_count": 24,
   "id": "66d58402",
   "metadata": {
    "executionInfo": {
     "elapsed": 441,
     "status": "ok",
     "timestamp": 1663386341903,
     "user": {
      "displayName": "Yu-Che Tsai",
      "userId": "11097797349614937936"
     },
     "user_tz": -480
    },
    "id": "66d58402"
   },
   "outputs": [],
   "source": [
    "import torch\n",
    "import torch.nn as nn\n",
    "import torch.nn.functional as F\n",
    "from sklearn.linear_model import LogisticRegression\n",
    "from torch_cluster import random_walk\n",
    "\n",
    "from torch_geometric.loader import LinkNeighborLoader\n",
    "from torch_geometric.nn import SAGEConv"
   ]
  },
  {
   "cell_type": "code",
   "execution_count": 25,
   "id": "e0c194b0",
   "metadata": {
    "executionInfo": {
     "elapsed": 4,
     "status": "ok",
     "timestamp": 1663386341904,
     "user": {
      "displayName": "Yu-Che Tsai",
      "userId": "11097797349614937936"
     },
     "user_tz": -480
    },
    "id": "e0c194b0"
   },
   "outputs": [],
   "source": [
    "class SAGE(nn.Module):\n",
    "    def __init__(self, in_channels, hidden_channels, num_layers):\n",
    "        super().__init__()\n",
    "        self.num_layers = num_layers\n",
    "        self.convs = nn.ModuleList()\n",
    "        self.num_layers = num_layers\n",
    "        for i in range(num_layers):\n",
    "            in_channels = in_channels if i == 0 else hidden_channels\n",
    "            self.convs.append(SAGEConv(in_channels, hidden_channels))\n",
    "\n",
    "    def forward(self, x, edge_index):\n",
    "        for i in range(self.num_layers):\n",
    "            x = self.convs[i](x, edge_index)\n",
    "            if i != self.num_layers - 1:\n",
    "                x = x.relu()\n",
    "                x = F.dropout(x, p=0.5, training=self.training)\n",
    "        return x\n",
    "\n",
    "    def full_forward(self, x, edge_index):\n",
    "        for i, conv in enumerate(self.convs):\n",
    "            x = conv(x, edge_index)\n",
    "            if i != self.num_layers - 1:\n",
    "                x = x.relu()\n",
    "                x = F.dropout(x, p=0.5, training=self.training)\n",
    "        return x"
   ]
  },
  {
   "cell_type": "code",
   "execution_count": 29,
   "id": "583902a9",
   "metadata": {
    "executionInfo": {
     "elapsed": 4,
     "status": "ok",
     "timestamp": 1663386459760,
     "user": {
      "displayName": "Yu-Che Tsai",
      "userId": "11097797349614937936"
     },
     "user_tz": -480
    },
    "id": "583902a9"
   },
   "outputs": [],
   "source": [
    "# define neighbor sampler\n",
    "train_loader = LinkNeighborLoader(\n",
    "    data,\n",
    "    batch_size=256,\n",
    "    shuffle=True,\n",
    "    neg_sampling_ratio=1.0,\n",
    "    num_neighbors=[10, 10],\n",
    ")"
   ]
  },
  {
   "cell_type": "code",
   "execution_count": 30,
   "id": "XYa_hzU39MQl",
   "metadata": {
    "colab": {
     "base_uri": "https://localhost:8080/"
    },
    "executionInfo": {
     "elapsed": 2,
     "status": "ok",
     "timestamp": 1663386460535,
     "user": {
      "displayName": "Yu-Che Tsai",
      "userId": "11097797349614937936"
     },
     "user_tz": -480
    },
    "id": "XYa_hzU39MQl",
    "outputId": "44dabd8e-4de8-4582-8e8d-5d99c35b45ae"
   },
   "outputs": [
    {
     "data": {
      "text/plain": [
       "torch.Size([2, 10556])"
      ]
     },
     "execution_count": 30,
     "metadata": {},
     "output_type": "execute_result"
    }
   ],
   "source": [
    "data.edge_index.shape"
   ]
  },
  {
   "cell_type": "code",
   "execution_count": 31,
   "id": "BK7x8-jo9MQl",
   "metadata": {
    "colab": {
     "base_uri": "https://localhost:8080/"
    },
    "executionInfo": {
     "elapsed": 3,
     "status": "ok",
     "timestamp": 1663386460858,
     "user": {
      "displayName": "Yu-Che Tsai",
      "userId": "11097797349614937936"
     },
     "user_tz": -480
    },
    "id": "BK7x8-jo9MQl",
    "outputId": "823cdf0f-de02-47c1-8696-70e42e26b13c"
   },
   "outputs": [
    {
     "name": "stdout",
     "output_type": "stream",
     "text": [
      "Data(x=[2417, 1433], edge_index=[2, 7785], y=[2417], train_mask=[2417], val_mask=[2417], test_mask=[2417], edge_label_index=[2, 512], edge_label=[512])\n"
     ]
    }
   ],
   "source": [
    "for batch in train_loader:\n",
    "    print(batch)\n",
    "    break"
   ]
  },
  {
   "cell_type": "code",
   "execution_count": 32,
   "id": "kWzD1vPb9MQl",
   "metadata": {
    "colab": {
     "base_uri": "https://localhost:8080/"
    },
    "executionInfo": {
     "elapsed": 283,
     "status": "ok",
     "timestamp": 1663386488587,
     "user": {
      "displayName": "Yu-Che Tsai",
      "userId": "11097797349614937936"
     },
     "user_tz": -480
    },
    "id": "kWzD1vPb9MQl",
    "outputId": "ae18e461-89fa-43c3-c0af-16f1d6d005a6"
   },
   "outputs": [
    {
     "name": "stdout",
     "output_type": "stream",
     "text": [
      "Edge label index: containing both positive and negative edges\n",
      "tensor([[137, 450, 570,  ..., 257,  82,  95],\n",
      "        [210, 152, 502,  ..., 362, 341, 444]])\n",
      "Edge label: 1 stands for positive and 0 stands for negative node pair(edge)\n",
      "tensor([1., 1., 1., 1., 1., 1., 1., 1., 1., 1., 1., 1., 1., 1., 1., 1., 1., 1.,\n",
      "        1., 1., 1., 1., 1., 1., 1., 1., 1., 1., 1., 1., 1., 1., 1., 1., 1., 1.,\n",
      "        1., 1., 1., 1., 1., 1., 1., 1., 1., 1., 1., 1., 1., 1., 1., 1., 1., 1.,\n",
      "        1., 1., 1., 1., 1., 1., 1., 1., 1., 1., 1., 1., 1., 1., 1., 1., 1., 1.,\n",
      "        1., 1., 1., 1., 1., 1., 1., 1., 1., 1., 1., 1., 1., 1., 1., 1., 1., 1.,\n",
      "        1., 1., 1., 1., 1., 1., 1., 1., 1., 1., 1., 1., 1., 1., 1., 1., 1., 1.,\n",
      "        1., 1., 1., 1., 1., 1., 1., 1., 1., 1., 1., 1., 1., 1., 1., 1., 1., 1.,\n",
      "        1., 1., 1., 1., 1., 1., 1., 1., 1., 1., 1., 1., 1., 1., 1., 1., 1., 1.,\n",
      "        1., 1., 1., 1., 1., 1., 1., 1., 1., 1., 1., 1., 1., 1., 1., 1., 1., 1.,\n",
      "        1., 1., 1., 1., 1., 1., 1., 1., 1., 1., 1., 1., 1., 1., 1., 1., 1., 1.,\n",
      "        1., 1., 1., 1., 1., 1., 1., 1., 1., 1., 1., 1., 1., 1., 1., 1., 1., 1.,\n",
      "        1., 1., 1., 1., 1., 1., 1., 1., 1., 1., 1., 1., 1., 1., 1., 1., 1., 1.,\n",
      "        1., 1., 1., 1., 1., 1., 1., 1., 1., 1., 1., 1., 1., 1., 1., 1., 1., 1.,\n",
      "        1., 1., 1., 1., 1., 1., 1., 1., 1., 1., 1., 1., 1., 1., 1., 1., 1., 1.,\n",
      "        1., 1., 1., 1., 0., 0., 0., 0., 0., 0., 0., 0., 0., 0., 0., 0., 0., 0.,\n",
      "        0., 0., 0., 0., 0., 0., 0., 0., 0., 0., 0., 0., 0., 0., 0., 0., 0., 0.,\n",
      "        0., 0., 0., 0., 0., 0., 0., 0., 0., 0., 0., 0., 0., 0., 0., 0., 0., 0.,\n",
      "        0., 0., 0., 0., 0., 0., 0., 0., 0., 0., 0., 0., 0., 0., 0., 0., 0., 0.,\n",
      "        0., 0., 0., 0., 0., 0., 0., 0., 0., 0., 0., 0., 0., 0., 0., 0., 0., 0.,\n",
      "        0., 0., 0., 0., 0., 0., 0., 0., 0., 0., 0., 0., 0., 0., 0., 0., 0., 0.,\n",
      "        0., 0., 0., 0., 0., 0., 0., 0., 0., 0., 0., 0., 0., 0., 0., 0., 0., 0.,\n",
      "        0., 0., 0., 0., 0., 0., 0., 0., 0., 0., 0., 0., 0., 0., 0., 0., 0., 0.,\n",
      "        0., 0., 0., 0., 0., 0., 0., 0., 0., 0., 0., 0., 0., 0., 0., 0., 0., 0.,\n",
      "        0., 0., 0., 0., 0., 0., 0., 0., 0., 0., 0., 0., 0., 0., 0., 0., 0., 0.,\n",
      "        0., 0., 0., 0., 0., 0., 0., 0., 0., 0., 0., 0., 0., 0., 0., 0., 0., 0.,\n",
      "        0., 0., 0., 0., 0., 0., 0., 0., 0., 0., 0., 0., 0., 0., 0., 0., 0., 0.,\n",
      "        0., 0., 0., 0., 0., 0., 0., 0., 0., 0., 0., 0., 0., 0., 0., 0., 0., 0.,\n",
      "        0., 0., 0., 0., 0., 0., 0., 0., 0., 0., 0., 0., 0., 0., 0., 0., 0., 0.,\n",
      "        0., 0., 0., 0., 0., 0., 0., 0.])\n"
     ]
    }
   ],
   "source": [
    "print(\"Edge label index: containing both positive and negative edges\")\n",
    "print(batch.edge_label_index)\n",
    "\n",
    "print(\"Edge label: 1 stands for positive and 0 stands for negative node pair(edge)\")\n",
    "print(batch.edge_label)"
   ]
  },
  {
   "cell_type": "code",
   "execution_count": 33,
   "id": "BaT6bJq89MQl",
   "metadata": {
    "executionInfo": {
     "elapsed": 267,
     "status": "ok",
     "timestamp": 1663386518319,
     "user": {
      "displayName": "Yu-Che Tsai",
      "userId": "11097797349614937936"
     },
     "user_tz": -480
    },
    "id": "BaT6bJq89MQl"
   },
   "outputs": [],
   "source": [
    "# define training and testing functions\n",
    "def train():\n",
    "    model.train()\n",
    "\n",
    "    total_loss = 0\n",
    "    for batch in train_loader:\n",
    "        batch = batch.to(device)\n",
    "        optimizer.zero_grad()\n",
    "        embedding = model(batch.x, batch.edge_index)\n",
    "        embedding_src = embedding[batch.edge_label_index[0]]\n",
    "        embedding_dst = embedding[batch.edge_label_index[1]]\n",
    "        pred = (embedding_src * embedding_dst).sum(dim=-1)\n",
    "        loss = F.binary_cross_entropy_with_logits(pred, batch.edge_label)\n",
    "        loss.backward()\n",
    "        optimizer.step()\n",
    "\n",
    "        total_loss += float(loss) * pred.size(0)\n",
    "\n",
    "    return total_loss / data.num_nodes\n",
    "\n",
    "\n",
    "@torch.no_grad()\n",
    "def test():\n",
    "    model.eval()\n",
    "    out = model.full_forward(x, edge_index).cpu()\n",
    "\n",
    "    clf = LogisticRegression()\n",
    "    clf.fit(out[data.train_mask], data.y[data.train_mask])\n",
    "\n",
    "    val_acc = clf.score(out[data.val_mask], data.y[data.val_mask])\n",
    "    test_acc = clf.score(out[data.test_mask], data.y[data.test_mask])\n",
    "\n",
    "    return val_acc, test_acc"
   ]
  },
  {
   "cell_type": "code",
   "execution_count": 34,
   "id": "8b9db1f5",
   "metadata": {
    "executionInfo": {
     "elapsed": 4405,
     "status": "ok",
     "timestamp": 1663386525726,
     "user": {
      "displayName": "Yu-Che Tsai",
      "userId": "11097797349614937936"
     },
     "user_tz": -480
    },
    "id": "8b9db1f5"
   },
   "outputs": [],
   "source": [
    "device = torch.device('cuda' if torch.cuda.is_available() else 'cpu')\n",
    "model = SAGE(data.num_node_features, hidden_channels=64, num_layers=2)\n",
    "model = model.to(device)\n",
    "optimizer = torch.optim.Adam(model.parameters(), lr=0.005,weight_decay=1e-4)\n",
    "x, edge_index = data.x.to(device), data.edge_index.to(device)"
   ]
  },
  {
   "cell_type": "code",
   "execution_count": 35,
   "id": "e88903af",
   "metadata": {
    "colab": {
     "base_uri": "https://localhost:8080/"
    },
    "executionInfo": {
     "elapsed": 78288,
     "status": "ok",
     "timestamp": 1663386603993,
     "user": {
      "displayName": "Yu-Che Tsai",
      "userId": "11097797349614937936"
     },
     "user_tz": -480
    },
    "id": "e88903af",
    "outputId": "a9284f85-5802-437a-eb7c-c4cba8e390ac",
    "scrolled": true
   },
   "outputs": [
    {
     "name": "stdout",
     "output_type": "stream",
     "text": [
      "Epoch: 001, Loss: 5.1714, Val: 0.3620, Test: 0.3370\n",
      "Epoch: 002, Loss: 4.6136, Val: 0.4200, Test: 0.3990\n",
      "Epoch: 003, Loss: 4.4264, Val: 0.5080, Test: 0.4910\n",
      "Epoch: 004, Loss: 4.1557, Val: 0.6180, Test: 0.6020\n",
      "Epoch: 005, Loss: 4.0782, Val: 0.6320, Test: 0.6460\n",
      "Epoch: 006, Loss: 4.0084, Val: 0.6640, Test: 0.6720\n",
      "Epoch: 007, Loss: 4.0046, Val: 0.6940, Test: 0.7050\n",
      "Epoch: 008, Loss: 3.9541, Val: 0.6880, Test: 0.7050\n",
      "Epoch: 009, Loss: 3.9026, Val: 0.6860, Test: 0.7150\n",
      "Epoch: 010, Loss: 3.8491, Val: 0.6980, Test: 0.7160\n",
      "Epoch: 011, Loss: 3.8243, Val: 0.7180, Test: 0.7320\n",
      "Epoch: 012, Loss: 3.8236, Val: 0.7360, Test: 0.7380\n",
      "Epoch: 013, Loss: 3.8050, Val: 0.7220, Test: 0.7370\n",
      "Epoch: 014, Loss: 3.7764, Val: 0.7080, Test: 0.7250\n",
      "Epoch: 015, Loss: 3.7590, Val: 0.7180, Test: 0.7340\n",
      "Epoch: 016, Loss: 3.7152, Val: 0.7200, Test: 0.7460\n",
      "Epoch: 017, Loss: 3.7281, Val: 0.7020, Test: 0.7520\n",
      "Epoch: 018, Loss: 3.6823, Val: 0.6960, Test: 0.7430\n",
      "Epoch: 019, Loss: 3.6953, Val: 0.7100, Test: 0.7570\n",
      "Epoch: 020, Loss: 3.6964, Val: 0.7260, Test: 0.7510\n",
      "Epoch: 021, Loss: 3.6526, Val: 0.7420, Test: 0.7660\n",
      "Epoch: 022, Loss: 3.6515, Val: 0.7280, Test: 0.7650\n",
      "Epoch: 023, Loss: 3.6650, Val: 0.7200, Test: 0.7630\n",
      "Epoch: 024, Loss: 3.6832, Val: 0.7260, Test: 0.7660\n",
      "Epoch: 025, Loss: 3.6199, Val: 0.7320, Test: 0.7720\n",
      "Epoch: 026, Loss: 3.6329, Val: 0.7420, Test: 0.7730\n",
      "Epoch: 027, Loss: 3.6149, Val: 0.7400, Test: 0.7740\n",
      "Epoch: 028, Loss: 3.6218, Val: 0.7540, Test: 0.7820\n",
      "Epoch: 029, Loss: 3.5685, Val: 0.7380, Test: 0.7750\n",
      "Epoch: 030, Loss: 3.6285, Val: 0.7340, Test: 0.7800\n",
      "Epoch: 031, Loss: 3.5945, Val: 0.7440, Test: 0.7860\n",
      "Epoch: 032, Loss: 3.5862, Val: 0.7600, Test: 0.7900\n",
      "Epoch: 033, Loss: 3.5816, Val: 0.7500, Test: 0.7930\n",
      "Epoch: 034, Loss: 3.5707, Val: 0.7580, Test: 0.7930\n",
      "Epoch: 035, Loss: 3.5593, Val: 0.7540, Test: 0.7880\n",
      "Epoch: 036, Loss: 3.5450, Val: 0.7500, Test: 0.7880\n",
      "Epoch: 037, Loss: 3.5400, Val: 0.7480, Test: 0.7830\n",
      "Epoch: 038, Loss: 3.6055, Val: 0.7440, Test: 0.7800\n",
      "Epoch: 039, Loss: 3.5571, Val: 0.7340, Test: 0.7710\n",
      "Epoch: 040, Loss: 3.5412, Val: 0.7280, Test: 0.7750\n",
      "Epoch: 041, Loss: 3.5582, Val: 0.7340, Test: 0.7700\n",
      "Epoch: 042, Loss: 3.5481, Val: 0.7360, Test: 0.7690\n",
      "Epoch: 043, Loss: 3.5639, Val: 0.7300, Test: 0.7730\n",
      "Epoch: 044, Loss: 3.5209, Val: 0.7480, Test: 0.7760\n",
      "Epoch: 045, Loss: 3.5719, Val: 0.7440, Test: 0.7740\n",
      "Epoch: 046, Loss: 3.5583, Val: 0.7460, Test: 0.7670\n",
      "Epoch: 047, Loss: 3.5257, Val: 0.7440, Test: 0.7660\n",
      "Epoch: 048, Loss: 3.5745, Val: 0.7620, Test: 0.7760\n",
      "Epoch: 049, Loss: 3.5229, Val: 0.7600, Test: 0.7820\n",
      "Epoch: 050, Loss: 3.5192, Val: 0.7580, Test: 0.7890\n",
      "Epoch: 051, Loss: 3.5177, Val: 0.7340, Test: 0.7820\n",
      "Epoch: 052, Loss: 3.5081, Val: 0.7500, Test: 0.7810\n",
      "Epoch: 053, Loss: 3.5519, Val: 0.7540, Test: 0.7800\n",
      "Epoch: 054, Loss: 3.5234, Val: 0.7480, Test: 0.7770\n",
      "Epoch: 055, Loss: 3.4988, Val: 0.7300, Test: 0.7800\n",
      "Epoch: 056, Loss: 3.5332, Val: 0.7360, Test: 0.7760\n",
      "Epoch: 057, Loss: 3.5153, Val: 0.7340, Test: 0.7680\n",
      "Epoch: 058, Loss: 3.5423, Val: 0.7260, Test: 0.7530\n",
      "Epoch: 059, Loss: 3.5067, Val: 0.7560, Test: 0.7700\n",
      "Epoch: 060, Loss: 3.5204, Val: 0.7500, Test: 0.7730\n",
      "Epoch: 061, Loss: 3.4983, Val: 0.7520, Test: 0.7770\n",
      "Epoch: 062, Loss: 3.4882, Val: 0.7500, Test: 0.7650\n",
      "Epoch: 063, Loss: 3.4839, Val: 0.7520, Test: 0.7670\n",
      "Epoch: 064, Loss: 3.5455, Val: 0.7400, Test: 0.7660\n",
      "Epoch: 065, Loss: 3.5067, Val: 0.7580, Test: 0.7700\n",
      "Epoch: 066, Loss: 3.5337, Val: 0.7640, Test: 0.7770\n",
      "Epoch: 067, Loss: 3.4863, Val: 0.7720, Test: 0.7740\n",
      "Epoch: 068, Loss: 3.4802, Val: 0.7780, Test: 0.7800\n",
      "Epoch: 069, Loss: 3.5023, Val: 0.7800, Test: 0.7820\n",
      "Epoch: 070, Loss: 3.5079, Val: 0.7720, Test: 0.7810\n",
      "Epoch: 071, Loss: 3.4893, Val: 0.7720, Test: 0.7960\n",
      "Epoch: 072, Loss: 3.5091, Val: 0.7700, Test: 0.7910\n",
      "Epoch: 073, Loss: 3.4859, Val: 0.7640, Test: 0.7800\n",
      "Epoch: 074, Loss: 3.4745, Val: 0.7520, Test: 0.7780\n",
      "Epoch: 075, Loss: 3.4434, Val: 0.7660, Test: 0.7960\n",
      "Epoch: 076, Loss: 3.4710, Val: 0.7660, Test: 0.7910\n",
      "Epoch: 077, Loss: 3.5058, Val: 0.7560, Test: 0.7930\n",
      "Epoch: 078, Loss: 3.5031, Val: 0.7520, Test: 0.8000\n",
      "Epoch: 079, Loss: 3.4823, Val: 0.7420, Test: 0.7850\n",
      "Epoch: 080, Loss: 3.4448, Val: 0.7600, Test: 0.7990\n",
      "Epoch: 081, Loss: 3.4829, Val: 0.7660, Test: 0.7940\n",
      "Epoch: 082, Loss: 3.4738, Val: 0.7580, Test: 0.7810\n",
      "Epoch: 083, Loss: 3.4900, Val: 0.7600, Test: 0.7760\n",
      "Epoch: 084, Loss: 3.4806, Val: 0.7720, Test: 0.7910\n",
      "Epoch: 085, Loss: 3.4825, Val: 0.7840, Test: 0.7910\n",
      "Epoch: 086, Loss: 3.4520, Val: 0.7760, Test: 0.7790\n",
      "Epoch: 087, Loss: 3.4429, Val: 0.7720, Test: 0.7780\n",
      "Epoch: 088, Loss: 3.5020, Val: 0.7820, Test: 0.7670\n",
      "Epoch: 089, Loss: 3.4888, Val: 0.7760, Test: 0.7790\n",
      "Epoch: 090, Loss: 3.4801, Val: 0.7700, Test: 0.7880\n",
      "Epoch: 091, Loss: 3.4488, Val: 0.7860, Test: 0.7840\n",
      "Epoch: 092, Loss: 3.5221, Val: 0.7820, Test: 0.7880\n",
      "Epoch: 093, Loss: 3.4728, Val: 0.7840, Test: 0.7760\n",
      "Epoch: 094, Loss: 3.4559, Val: 0.7660, Test: 0.7750\n",
      "Epoch: 095, Loss: 3.4603, Val: 0.7640, Test: 0.7800\n",
      "Epoch: 096, Loss: 3.4924, Val: 0.7640, Test: 0.7830\n",
      "Epoch: 097, Loss: 3.5062, Val: 0.7700, Test: 0.7870\n",
      "Epoch: 098, Loss: 3.4941, Val: 0.7720, Test: 0.7650\n",
      "Epoch: 099, Loss: 3.4841, Val: 0.7640, Test: 0.7770\n",
      "Epoch: 100, Loss: 3.4815, Val: 0.7880, Test: 0.7810\n"
     ]
    }
   ],
   "source": [
    "for epoch in range(1, 101):\n",
    "    loss = train()\n",
    "    val_acc, test_acc = test()\n",
    "    print(f'Epoch: {epoch:03d}, Loss: {loss:.4f}, '\n",
    "          f'Val: {val_acc:.4f}, Test: {test_acc:.4f}')"
   ]
  },
  {
   "cell_type": "markdown",
   "id": "6caee53d",
   "metadata": {
    "id": "6caee53d"
   },
   "source": [
    "## Performance comparison\n",
    "Recall that in the previous examples, we performed node classification in 3 different ways.\n",
    "1. Bag of word + MLP with `Accuracy:0.6`\n",
    "2. Node2vec + Logistic regression with `Accuracy:0.703`\n",
    "3. Node2vec with Bag of word + Logistic regression with `Accuracy:0.707`\n",
    "4. GraphSAGE: with Bag of word + Logistic regression with `Accuracy:0.791`\n",
    "\n",
    "We noticed that node embedding + node feature cannot improve the performance significantly. <br>\n",
    "However, we make use of node feature and graph structure at the same time and boost the accuracy up to **0.791** with a simple two-layer `GraphSAGE`."
   ]
  },
  {
   "cell_type": "markdown",
   "id": "36240400",
   "metadata": {
    "id": "36240400"
   },
   "source": [
    "## End-to-end semi-supervised learning with Graph Convolution Network(GCN)\n",
    "Previously, we adopt a two stage classification pipeline where we first extract network feature via unsupervised learning then utilize a classifier to predict its label. <br>\n",
    "The two-stage design could be suboptimal since the network features were not extracted for specific task. <br>\n",
    "Hence, GCN is our best choice since GCN extract feature by aggregating information from neighboring nodes and making classification simultaneously."
   ]
  },
  {
   "cell_type": "code",
   "execution_count": 37,
   "id": "9b156ae0",
   "metadata": {
    "executionInfo": {
     "elapsed": 1,
     "status": "ok",
     "timestamp": 1663386768615,
     "user": {
      "displayName": "Yu-Che Tsai",
      "userId": "11097797349614937936"
     },
     "user_tz": -480
    },
    "id": "9b156ae0"
   },
   "outputs": [],
   "source": [
    "from torch_geometric.nn import GCNConv\n",
    "import torch.nn.functional as F\n",
    "\n",
    "class GCN(torch.nn.Module):\n",
    "    def __init__(self, in_channels, hidden_channels, out_channels):\n",
    "        super().__init__()\n",
    "        self.conv1 = GCNConv(in_channels, hidden_channels, cached=True,\n",
    "                             normalize=True)\n",
    "        self.conv2 = GCNConv(hidden_channels, out_channels, cached=True,\n",
    "                             normalize=True)\n",
    "\n",
    "    def forward(self, x, edge_index, edge_weight=None):\n",
    "        x = F.dropout(x, p=0.3, training=self.training)\n",
    "        x = self.conv1(x, edge_index, edge_weight).relu()\n",
    "        x = F.dropout(x, p=0.3, training=self.training)\n",
    "        x = self.conv2(x, edge_index, edge_weight)\n",
    "        return x"
   ]
  },
  {
   "cell_type": "code",
   "execution_count": 38,
   "id": "67338214",
   "metadata": {
    "colab": {
     "base_uri": "https://localhost:8080/"
    },
    "executionInfo": {
     "elapsed": 4,
     "status": "ok",
     "timestamp": 1663386768902,
     "user": {
      "displayName": "Yu-Che Tsai",
      "userId": "11097797349614937936"
     },
     "user_tz": -480
    },
    "id": "67338214",
    "outputId": "07232e0d-90e6-43ef-e805-859283b424b2"
   },
   "outputs": [
    {
     "name": "stdout",
     "output_type": "stream",
     "text": [
      "GCN(\n",
      "  (conv1): GCNConv(1433, 64)\n",
      "  (conv2): GCNConv(64, 7)\n",
      ")\n"
     ]
    }
   ],
   "source": [
    "dim = 64\n",
    "model = GCN(dataset.num_features, dim, dataset.num_classes)\n",
    "model, data = model.to(device), data.to(device)\n",
    "optimizer = torch.optim.Adam(model.parameters(),weight_decay=1e-4)\n",
    "print(model)"
   ]
  },
  {
   "cell_type": "markdown",
   "id": "9c1bc011",
   "metadata": {
    "id": "9c1bc011"
   },
   "source": [
    "## Define training/testing fucntions\n",
    "\n",
    "### Training stage\n",
    "The GCN model takes two inputs: `x` and `edge_index` which represent the **node feature** and **edge index**, respectively. <br>\n",
    "Note: The training procedure is slightly different than what we used to do. <br>\n",
    "Since GNN takes the whole graph as input and output embeddings of individual nodes, the concept of \"batch\" does not apply here. \n"
   ]
  },
  {
   "cell_type": "code",
   "execution_count": 39,
   "id": "646fb96c",
   "metadata": {
    "executionInfo": {
     "elapsed": 268,
     "status": "ok",
     "timestamp": 1663386794576,
     "user": {
      "displayName": "Yu-Che Tsai",
      "userId": "11097797349614937936"
     },
     "user_tz": -480
    },
    "id": "646fb96c"
   },
   "outputs": [],
   "source": [
    "def train():\n",
    "    model.train()\n",
    "    optimizer.zero_grad()\n",
    "    out = model(data.x, data.edge_index, data.edge_weight)\n",
    "    loss = F.cross_entropy(out[data.train_mask], data.y[data.train_mask])\n",
    "    loss.backward()\n",
    "    optimizer.step()\n",
    "    return float(loss)\n",
    "\n",
    "@torch.no_grad()\n",
    "def test():\n",
    "    model.eval()\n",
    "    pred = model(data.x, data.edge_index, data.edge_weight).argmax(dim=-1)\n",
    "    mask = data.test_mask\n",
    "    accs = (int((pred[mask] == data.y[mask]).sum()) / int(mask.sum()))\n",
    "    return accs"
   ]
  },
  {
   "cell_type": "code",
   "execution_count": 40,
   "id": "142e2595",
   "metadata": {
    "colab": {
     "base_uri": "https://localhost:8080/"
    },
    "executionInfo": {
     "elapsed": 2101,
     "status": "ok",
     "timestamp": 1663386797988,
     "user": {
      "displayName": "Yu-Che Tsai",
      "userId": "11097797349614937936"
     },
     "user_tz": -480
    },
    "id": "142e2595",
    "outputId": "9596e72b-144a-43f7-ba6f-078dcc2338e5"
   },
   "outputs": [
    {
     "name": "stdout",
     "output_type": "stream",
     "text": [
      "Loss:1.9464 Testing accuracy:0.2600\n",
      "Loss:1.9447 Testing accuracy:0.3180\n",
      "Loss:1.9432 Testing accuracy:0.3820\n",
      "Loss:1.9409 Testing accuracy:0.4560\n",
      "Loss:1.9389 Testing accuracy:0.5250\n",
      "Loss:1.9372 Testing accuracy:0.5910\n",
      "Loss:1.9359 Testing accuracy:0.6260\n",
      "Loss:1.9329 Testing accuracy:0.6580\n",
      "Loss:1.9316 Testing accuracy:0.6840\n",
      "Loss:1.9280 Testing accuracy:0.6960\n",
      "Loss:1.9265 Testing accuracy:0.7150\n",
      "Loss:1.9248 Testing accuracy:0.7230\n",
      "Loss:1.9217 Testing accuracy:0.7250\n",
      "Loss:1.9182 Testing accuracy:0.7310\n",
      "Loss:1.9147 Testing accuracy:0.7290\n",
      "Loss:1.9133 Testing accuracy:0.7340\n",
      "Loss:1.9110 Testing accuracy:0.7390\n",
      "Loss:1.9076 Testing accuracy:0.7400\n",
      "Loss:1.9040 Testing accuracy:0.7420\n",
      "Loss:1.9025 Testing accuracy:0.7490\n",
      "Loss:1.8983 Testing accuracy:0.7520\n",
      "Loss:1.8959 Testing accuracy:0.7560\n",
      "Loss:1.8932 Testing accuracy:0.7600\n",
      "Loss:1.8886 Testing accuracy:0.7590\n",
      "Loss:1.8864 Testing accuracy:0.7630\n",
      "Loss:1.8813 Testing accuracy:0.7640\n",
      "Loss:1.8797 Testing accuracy:0.7650\n",
      "Loss:1.8730 Testing accuracy:0.7650\n",
      "Loss:1.8718 Testing accuracy:0.7680\n",
      "Loss:1.8685 Testing accuracy:0.7710\n",
      "Loss:1.8643 Testing accuracy:0.7710\n",
      "Loss:1.8613 Testing accuracy:0.7720\n",
      "Loss:1.8557 Testing accuracy:0.7720\n",
      "Loss:1.8554 Testing accuracy:0.7710\n",
      "Loss:1.8502 Testing accuracy:0.7710\n",
      "Loss:1.8488 Testing accuracy:0.7710\n",
      "Loss:1.8432 Testing accuracy:0.7690\n",
      "Loss:1.8353 Testing accuracy:0.7720\n",
      "Loss:1.8333 Testing accuracy:0.7720\n",
      "Loss:1.8270 Testing accuracy:0.7720\n",
      "Loss:1.8238 Testing accuracy:0.7730\n",
      "Loss:1.8256 Testing accuracy:0.7730\n",
      "Loss:1.8136 Testing accuracy:0.7750\n",
      "Loss:1.8131 Testing accuracy:0.7740\n",
      "Loss:1.8100 Testing accuracy:0.7720\n",
      "Loss:1.8017 Testing accuracy:0.7720\n",
      "Loss:1.7970 Testing accuracy:0.7720\n",
      "Loss:1.7979 Testing accuracy:0.7720\n",
      "Loss:1.7910 Testing accuracy:0.7730\n",
      "Loss:1.7894 Testing accuracy:0.7730\n",
      "Loss:1.7801 Testing accuracy:0.7730\n",
      "Loss:1.7739 Testing accuracy:0.7730\n",
      "Loss:1.7676 Testing accuracy:0.7730\n",
      "Loss:1.7668 Testing accuracy:0.7740\n",
      "Loss:1.7655 Testing accuracy:0.7720\n",
      "Loss:1.7570 Testing accuracy:0.7730\n",
      "Loss:1.7494 Testing accuracy:0.7740\n",
      "Loss:1.7440 Testing accuracy:0.7770\n",
      "Loss:1.7478 Testing accuracy:0.7760\n",
      "Loss:1.7362 Testing accuracy:0.7770\n",
      "Loss:1.7343 Testing accuracy:0.7800\n",
      "Loss:1.7241 Testing accuracy:0.7810\n",
      "Loss:1.7230 Testing accuracy:0.7810\n",
      "Loss:1.7144 Testing accuracy:0.7800\n",
      "Loss:1.7126 Testing accuracy:0.7820\n",
      "Loss:1.7068 Testing accuracy:0.7820\n",
      "Loss:1.6964 Testing accuracy:0.7820\n",
      "Loss:1.6880 Testing accuracy:0.7820\n",
      "Loss:1.6943 Testing accuracy:0.7790\n",
      "Loss:1.6821 Testing accuracy:0.7820\n",
      "Loss:1.6782 Testing accuracy:0.7820\n",
      "Loss:1.6756 Testing accuracy:0.7810\n",
      "Loss:1.6742 Testing accuracy:0.7820\n",
      "Loss:1.6691 Testing accuracy:0.7840\n",
      "Loss:1.6613 Testing accuracy:0.7820\n",
      "Loss:1.6525 Testing accuracy:0.7820\n",
      "Loss:1.6427 Testing accuracy:0.7800\n",
      "Loss:1.6396 Testing accuracy:0.7790\n",
      "Loss:1.6261 Testing accuracy:0.7790\n",
      "Loss:1.6172 Testing accuracy:0.7790\n",
      "Loss:1.6243 Testing accuracy:0.7800\n",
      "Loss:1.6185 Testing accuracy:0.7800\n",
      "Loss:1.6104 Testing accuracy:0.7800\n",
      "Loss:1.6079 Testing accuracy:0.7800\n",
      "Loss:1.6006 Testing accuracy:0.7810\n",
      "Loss:1.5756 Testing accuracy:0.7810\n",
      "Loss:1.5835 Testing accuracy:0.7820\n",
      "Loss:1.5710 Testing accuracy:0.7850\n",
      "Loss:1.5690 Testing accuracy:0.7860\n",
      "Loss:1.5550 Testing accuracy:0.7860\n",
      "Loss:1.5567 Testing accuracy:0.7860\n",
      "Loss:1.5466 Testing accuracy:0.7880\n",
      "Loss:1.5370 Testing accuracy:0.7880\n",
      "Loss:1.5350 Testing accuracy:0.7880\n",
      "Loss:1.5399 Testing accuracy:0.7880\n",
      "Loss:1.5229 Testing accuracy:0.7880\n",
      "Loss:1.5221 Testing accuracy:0.7880\n",
      "Loss:1.5089 Testing accuracy:0.7890\n",
      "Loss:1.5022 Testing accuracy:0.7900\n",
      "Loss:1.5105 Testing accuracy:0.7900\n",
      "Loss:1.4894 Testing accuracy:0.7900\n",
      "Loss:1.4825 Testing accuracy:0.7900\n",
      "Loss:1.4762 Testing accuracy:0.7900\n",
      "Loss:1.4740 Testing accuracy:0.7900\n",
      "Loss:1.4654 Testing accuracy:0.7900\n",
      "Loss:1.4564 Testing accuracy:0.7890\n",
      "Loss:1.4465 Testing accuracy:0.7890\n",
      "Loss:1.4602 Testing accuracy:0.7910\n",
      "Loss:1.4373 Testing accuracy:0.7900\n",
      "Loss:1.4245 Testing accuracy:0.7880\n",
      "Loss:1.4159 Testing accuracy:0.7870\n",
      "Loss:1.4136 Testing accuracy:0.7870\n",
      "Loss:1.4182 Testing accuracy:0.7870\n",
      "Loss:1.4099 Testing accuracy:0.7870\n",
      "Loss:1.4075 Testing accuracy:0.7870\n",
      "Loss:1.3778 Testing accuracy:0.7870\n",
      "Loss:1.3744 Testing accuracy:0.7870\n",
      "Loss:1.3638 Testing accuracy:0.7880\n",
      "Loss:1.3707 Testing accuracy:0.7890\n",
      "Loss:1.3727 Testing accuracy:0.7900\n",
      "Loss:1.3443 Testing accuracy:0.7910\n",
      "Loss:1.3362 Testing accuracy:0.7920\n",
      "Loss:1.3521 Testing accuracy:0.7930\n",
      "Loss:1.3301 Testing accuracy:0.7950\n",
      "Loss:1.3057 Testing accuracy:0.7950\n",
      "Loss:1.3082 Testing accuracy:0.7940\n",
      "Loss:1.3169 Testing accuracy:0.7940\n",
      "Loss:1.3006 Testing accuracy:0.7940\n",
      "Loss:1.3087 Testing accuracy:0.7960\n",
      "Loss:1.2870 Testing accuracy:0.7960\n",
      "Loss:1.2850 Testing accuracy:0.7960\n",
      "Loss:1.2741 Testing accuracy:0.7960\n",
      "Loss:1.2631 Testing accuracy:0.7960\n",
      "Loss:1.2562 Testing accuracy:0.7960\n",
      "Loss:1.2480 Testing accuracy:0.7960\n",
      "Loss:1.2438 Testing accuracy:0.7960\n",
      "Loss:1.2374 Testing accuracy:0.7960\n",
      "Loss:1.2324 Testing accuracy:0.7950\n",
      "Loss:1.2401 Testing accuracy:0.7940\n",
      "Loss:1.2137 Testing accuracy:0.7930\n",
      "Loss:1.1912 Testing accuracy:0.7930\n",
      "Loss:1.1897 Testing accuracy:0.7950\n",
      "Loss:1.2112 Testing accuracy:0.7940\n",
      "Loss:1.1822 Testing accuracy:0.7940\n",
      "Loss:1.1997 Testing accuracy:0.7940\n",
      "Loss:1.1837 Testing accuracy:0.7940\n",
      "Loss:1.1868 Testing accuracy:0.7950\n",
      "Loss:1.1602 Testing accuracy:0.7950\n",
      "Loss:1.1577 Testing accuracy:0.7950\n",
      "Loss:1.1434 Testing accuracy:0.7950\n",
      "Loss:1.1487 Testing accuracy:0.7950\n",
      "Loss:1.1275 Testing accuracy:0.7950\n",
      "Loss:1.1375 Testing accuracy:0.7950\n",
      "Loss:1.1207 Testing accuracy:0.7960\n",
      "Loss:1.1164 Testing accuracy:0.7960\n",
      "Loss:1.1066 Testing accuracy:0.7960\n",
      "Loss:1.0962 Testing accuracy:0.7960\n",
      "Loss:1.0759 Testing accuracy:0.7950\n",
      "Loss:1.0915 Testing accuracy:0.7960\n",
      "Loss:1.0720 Testing accuracy:0.7980\n",
      "Loss:1.0708 Testing accuracy:0.7990\n",
      "Loss:1.0487 Testing accuracy:0.7990\n",
      "Loss:1.0610 Testing accuracy:0.7990\n",
      "Loss:1.0500 Testing accuracy:0.7990\n",
      "Loss:1.0232 Testing accuracy:0.8000\n",
      "Loss:1.0318 Testing accuracy:0.7990\n",
      "Loss:1.0177 Testing accuracy:0.8010\n",
      "Loss:1.0185 Testing accuracy:0.8020\n",
      "Loss:1.0223 Testing accuracy:0.8040\n",
      "Loss:1.0242 Testing accuracy:0.8030\n",
      "Loss:0.9965 Testing accuracy:0.8040\n",
      "Loss:0.9872 Testing accuracy:0.8050\n",
      "Loss:0.9703 Testing accuracy:0.8060\n",
      "Loss:1.0064 Testing accuracy:0.8060\n",
      "Loss:0.9856 Testing accuracy:0.8060\n",
      "Loss:0.9964 Testing accuracy:0.8050\n",
      "Loss:0.9510 Testing accuracy:0.8020\n",
      "Loss:0.9538 Testing accuracy:0.8010\n",
      "Loss:0.9478 Testing accuracy:0.8010\n",
      "Loss:0.9438 Testing accuracy:0.8000\n",
      "Loss:0.9256 Testing accuracy:0.8020\n",
      "Loss:0.9466 Testing accuracy:0.8020\n",
      "Loss:0.9252 Testing accuracy:0.8020\n",
      "Loss:0.9129 Testing accuracy:0.8010\n",
      "Loss:0.9043 Testing accuracy:0.8000\n",
      "Loss:0.9057 Testing accuracy:0.8010\n",
      "Loss:0.8905 Testing accuracy:0.8000\n",
      "Loss:0.8981 Testing accuracy:0.8010\n",
      "Loss:0.8974 Testing accuracy:0.8030\n",
      "Loss:0.8605 Testing accuracy:0.8030\n",
      "Loss:0.8572 Testing accuracy:0.8050\n",
      "Loss:0.8778 Testing accuracy:0.8050\n",
      "Loss:0.8485 Testing accuracy:0.8050\n",
      "Loss:0.8656 Testing accuracy:0.8050\n",
      "Loss:0.8471 Testing accuracy:0.8050\n",
      "Loss:0.8405 Testing accuracy:0.8060\n",
      "Loss:0.8241 Testing accuracy:0.8090\n",
      "Loss:0.8583 Testing accuracy:0.8090\n",
      "Loss:0.8205 Testing accuracy:0.8090\n",
      "Loss:0.8310 Testing accuracy:0.8090\n",
      "Loss:0.8321 Testing accuracy:0.8090\n",
      "Loss:0.8161 Testing accuracy:0.8090\n",
      "Loss:0.7978 Testing accuracy:0.8100\n",
      "Loss:0.8090 Testing accuracy:0.8120\n",
      "Loss:0.7925 Testing accuracy:0.8130\n",
      "Loss:0.8007 Testing accuracy:0.8130\n",
      "Loss:0.8030 Testing accuracy:0.8120\n",
      "Loss:0.7916 Testing accuracy:0.8110\n",
      "Loss:0.7854 Testing accuracy:0.8110\n",
      "Loss:0.7742 Testing accuracy:0.8100\n",
      "Loss:0.7844 Testing accuracy:0.8110\n",
      "Loss:0.7741 Testing accuracy:0.8110\n",
      "Loss:0.7466 Testing accuracy:0.8100\n",
      "Loss:0.7423 Testing accuracy:0.8080\n",
      "Loss:0.7698 Testing accuracy:0.8100\n",
      "Loss:0.7439 Testing accuracy:0.8100\n",
      "Loss:0.7489 Testing accuracy:0.8090\n",
      "Loss:0.7369 Testing accuracy:0.8080\n",
      "Loss:0.7327 Testing accuracy:0.8080\n",
      "Loss:0.7213 Testing accuracy:0.8080\n",
      "Loss:0.7313 Testing accuracy:0.8080\n",
      "Loss:0.7198 Testing accuracy:0.8080\n",
      "Loss:0.6932 Testing accuracy:0.8090\n",
      "Loss:0.7104 Testing accuracy:0.8090\n",
      "Loss:0.7213 Testing accuracy:0.8090\n",
      "Loss:0.6935 Testing accuracy:0.8090\n",
      "Loss:0.6793 Testing accuracy:0.8090\n",
      "Loss:0.7141 Testing accuracy:0.8090\n",
      "Loss:0.6876 Testing accuracy:0.8080\n",
      "Loss:0.6698 Testing accuracy:0.8070\n",
      "Loss:0.6798 Testing accuracy:0.8070\n",
      "Loss:0.6735 Testing accuracy:0.8080\n",
      "Loss:0.6743 Testing accuracy:0.8080\n",
      "Loss:0.6724 Testing accuracy:0.8100\n",
      "Loss:0.6457 Testing accuracy:0.8120\n",
      "Loss:0.6290 Testing accuracy:0.8130\n",
      "Loss:0.6412 Testing accuracy:0.8130\n",
      "Loss:0.6548 Testing accuracy:0.8150\n",
      "Loss:0.6297 Testing accuracy:0.8140\n",
      "Loss:0.6625 Testing accuracy:0.8150\n",
      "Loss:0.6532 Testing accuracy:0.8150\n",
      "Loss:0.6119 Testing accuracy:0.8170\n",
      "Loss:0.6193 Testing accuracy:0.8170\n",
      "Loss:0.6428 Testing accuracy:0.8170\n",
      "Loss:0.6207 Testing accuracy:0.8170\n",
      "Loss:0.6028 Testing accuracy:0.8170\n",
      "Loss:0.6087 Testing accuracy:0.8170\n",
      "Loss:0.6091 Testing accuracy:0.8170\n",
      "Loss:0.6062 Testing accuracy:0.8180\n",
      "Loss:0.6080 Testing accuracy:0.8180\n",
      "Loss:0.5861 Testing accuracy:0.8170\n",
      "Loss:0.6052 Testing accuracy:0.8170\n",
      "Loss:0.5845 Testing accuracy:0.8160\n",
      "Loss:0.5795 Testing accuracy:0.8150\n",
      "Loss:0.5694 Testing accuracy:0.8140\n",
      "Loss:0.5961 Testing accuracy:0.8130\n",
      "Loss:0.5772 Testing accuracy:0.8120\n",
      "Loss:0.5803 Testing accuracy:0.8120\n",
      "Loss:0.5778 Testing accuracy:0.8120\n",
      "Loss:0.5646 Testing accuracy:0.8130\n",
      "Loss:0.5640 Testing accuracy:0.8140\n",
      "Loss:0.5571 Testing accuracy:0.8150\n",
      "Loss:0.5459 Testing accuracy:0.8150\n",
      "Loss:0.5671 Testing accuracy:0.8160\n",
      "Loss:0.5157 Testing accuracy:0.8160\n",
      "Loss:0.5271 Testing accuracy:0.8160\n",
      "Loss:0.5371 Testing accuracy:0.8140\n",
      "Loss:0.5213 Testing accuracy:0.8150\n",
      "Loss:0.5421 Testing accuracy:0.8150\n",
      "Loss:0.5235 Testing accuracy:0.8150\n",
      "Loss:0.5202 Testing accuracy:0.8160\n",
      "Loss:0.5066 Testing accuracy:0.8170\n",
      "Loss:0.5159 Testing accuracy:0.8170\n",
      "Loss:0.5313 Testing accuracy:0.8180\n",
      "Loss:0.5186 Testing accuracy:0.8190\n",
      "Loss:0.5083 Testing accuracy:0.8190\n",
      "Loss:0.4866 Testing accuracy:0.8190\n",
      "Loss:0.4847 Testing accuracy:0.8190\n",
      "Loss:0.4901 Testing accuracy:0.8190\n",
      "Loss:0.4909 Testing accuracy:0.8190\n",
      "Loss:0.4786 Testing accuracy:0.8180\n",
      "Loss:0.4987 Testing accuracy:0.8180\n",
      "Loss:0.4756 Testing accuracy:0.8180\n",
      "Loss:0.4890 Testing accuracy:0.8170\n",
      "Loss:0.4984 Testing accuracy:0.8170\n",
      "Loss:0.4866 Testing accuracy:0.8170\n",
      "Loss:0.4703 Testing accuracy:0.8170\n",
      "Loss:0.4727 Testing accuracy:0.8170\n",
      "Loss:0.4694 Testing accuracy:0.8180\n",
      "Loss:0.4652 Testing accuracy:0.8190\n",
      "Loss:0.4570 Testing accuracy:0.8190\n",
      "Loss:0.4643 Testing accuracy:0.8190\n",
      "Loss:0.4606 Testing accuracy:0.8180\n",
      "Loss:0.4352 Testing accuracy:0.8190\n",
      "Loss:0.4588 Testing accuracy:0.8190\n",
      "Loss:0.4476 Testing accuracy:0.8210\n",
      "Loss:0.4354 Testing accuracy:0.8210\n",
      "Loss:0.4495 Testing accuracy:0.8200\n",
      "Loss:0.4567 Testing accuracy:0.8200\n",
      "Loss:0.4548 Testing accuracy:0.8200\n",
      "Loss:0.4375 Testing accuracy:0.8210\n",
      "Loss:0.4250 Testing accuracy:0.8210\n",
      "Loss:0.4330 Testing accuracy:0.8210\n",
      "Loss:0.4287 Testing accuracy:0.8210\n",
      "Loss:0.4304 Testing accuracy:0.8200\n",
      "Loss:0.4221 Testing accuracy:0.8200\n",
      "Loss:0.4228 Testing accuracy:0.8200\n",
      "Loss:0.4416 Testing accuracy:0.8200\n",
      "Loss:0.4316 Testing accuracy:0.8190\n",
      "Loss:0.4346 Testing accuracy:0.8190\n",
      "Loss:0.4145 Testing accuracy:0.8180\n",
      "Loss:0.4072 Testing accuracy:0.8170\n",
      "Loss:0.4427 Testing accuracy:0.8170\n",
      "Loss:0.4058 Testing accuracy:0.8180\n",
      "Loss:0.4032 Testing accuracy:0.8180\n",
      "Loss:0.4378 Testing accuracy:0.8170\n",
      "Loss:0.4259 Testing accuracy:0.8180\n",
      "Loss:0.4188 Testing accuracy:0.8180\n",
      "Loss:0.3974 Testing accuracy:0.8190\n",
      "Loss:0.4038 Testing accuracy:0.8170\n",
      "Loss:0.3964 Testing accuracy:0.8180\n",
      "Loss:0.4055 Testing accuracy:0.8190\n",
      "Loss:0.3917 Testing accuracy:0.8190\n",
      "Loss:0.4019 Testing accuracy:0.8200\n",
      "Loss:0.3814 Testing accuracy:0.8200\n",
      "Loss:0.3832 Testing accuracy:0.8200\n",
      "Loss:0.4113 Testing accuracy:0.8200\n",
      "Loss:0.3770 Testing accuracy:0.8200\n",
      "Loss:0.3776 Testing accuracy:0.8200\n",
      "Loss:0.3900 Testing accuracy:0.8200\n",
      "Loss:0.3853 Testing accuracy:0.8210\n",
      "Loss:0.3667 Testing accuracy:0.8210\n",
      "Loss:0.3936 Testing accuracy:0.8200\n",
      "Loss:0.3765 Testing accuracy:0.8200\n",
      "Loss:0.3744 Testing accuracy:0.8200\n",
      "Loss:0.3926 Testing accuracy:0.8190\n",
      "Loss:0.3853 Testing accuracy:0.8190\n",
      "Loss:0.3674 Testing accuracy:0.8200\n",
      "Loss:0.3735 Testing accuracy:0.8200\n",
      "Loss:0.3643 Testing accuracy:0.8200\n",
      "Loss:0.3702 Testing accuracy:0.8200\n",
      "Loss:0.3643 Testing accuracy:0.8190\n",
      "Loss:0.3696 Testing accuracy:0.8180\n",
      "Loss:0.3756 Testing accuracy:0.8190\n",
      "Loss:0.3514 Testing accuracy:0.8190\n",
      "Loss:0.3458 Testing accuracy:0.8200\n",
      "Loss:0.3658 Testing accuracy:0.8190\n",
      "Loss:0.3674 Testing accuracy:0.8180\n",
      "Loss:0.3371 Testing accuracy:0.8170\n",
      "Loss:0.3582 Testing accuracy:0.8160\n",
      "Loss:0.3369 Testing accuracy:0.8180\n",
      "Loss:0.3289 Testing accuracy:0.8190\n",
      "Loss:0.3547 Testing accuracy:0.8200\n",
      "Loss:0.3345 Testing accuracy:0.8200\n",
      "Loss:0.3411 Testing accuracy:0.8200\n",
      "Loss:0.3452 Testing accuracy:0.8190\n",
      "Loss:0.3438 Testing accuracy:0.8180\n",
      "Loss:0.3258 Testing accuracy:0.8180\n",
      "Loss:0.3311 Testing accuracy:0.8180\n",
      "Loss:0.3325 Testing accuracy:0.8190\n",
      "Loss:0.3259 Testing accuracy:0.8190\n",
      "Loss:0.3315 Testing accuracy:0.8190\n",
      "Loss:0.3349 Testing accuracy:0.8190\n",
      "Loss:0.3493 Testing accuracy:0.8190\n",
      "Loss:0.3444 Testing accuracy:0.8210\n",
      "Loss:0.3128 Testing accuracy:0.8210\n",
      "Loss:0.3225 Testing accuracy:0.8210\n",
      "Loss:0.3153 Testing accuracy:0.8210\n",
      "Loss:0.3106 Testing accuracy:0.8210\n",
      "Loss:0.3250 Testing accuracy:0.8210\n",
      "Loss:0.3193 Testing accuracy:0.8210\n",
      "Loss:0.3062 Testing accuracy:0.8210\n",
      "Loss:0.3085 Testing accuracy:0.8210\n",
      "Loss:0.3024 Testing accuracy:0.8210\n",
      "Loss:0.3239 Testing accuracy:0.8210\n",
      "Loss:0.3003 Testing accuracy:0.8210\n",
      "Loss:0.3108 Testing accuracy:0.8210\n",
      "Loss:0.3055 Testing accuracy:0.8210\n",
      "Loss:0.3045 Testing accuracy:0.8210\n",
      "Loss:0.2873 Testing accuracy:0.8200\n",
      "Loss:0.3054 Testing accuracy:0.8210\n",
      "Loss:0.2974 Testing accuracy:0.8200\n",
      "Loss:0.3020 Testing accuracy:0.8200\n",
      "Loss:0.3018 Testing accuracy:0.8210\n",
      "Loss:0.2902 Testing accuracy:0.8210\n",
      "Loss:0.2941 Testing accuracy:0.8210\n",
      "Loss:0.2909 Testing accuracy:0.8210\n",
      "Loss:0.2996 Testing accuracy:0.8210\n",
      "Loss:0.2858 Testing accuracy:0.8210\n",
      "Loss:0.3161 Testing accuracy:0.8210\n",
      "Loss:0.2888 Testing accuracy:0.8200\n",
      "Loss:0.2943 Testing accuracy:0.8200\n",
      "Loss:0.2775 Testing accuracy:0.8200\n",
      "Loss:0.3027 Testing accuracy:0.8200\n",
      "Loss:0.2911 Testing accuracy:0.8210\n",
      "Loss:0.2907 Testing accuracy:0.8200\n",
      "Loss:0.2763 Testing accuracy:0.8200\n",
      "Loss:0.2874 Testing accuracy:0.8210\n",
      "Loss:0.2972 Testing accuracy:0.8210\n",
      "Loss:0.2878 Testing accuracy:0.8210\n"
     ]
    }
   ],
   "source": [
    "for epoch in range(400):\n",
    "    loss = train()\n",
    "    test_acc = test()\n",
    "    print(f\"Loss:{loss:.4f} Testing accuracy:{test_acc:.4f}\")"
   ]
  },
  {
   "cell_type": "markdown",
   "id": "ec8ff377",
   "metadata": {
    "id": "ec8ff377"
   },
   "source": [
    "## Performance comparison\n",
    "Recall that in the previous examples, we performed node classification in 3 different ways.\n",
    "1. Bag of word + MLP with `Accuracy:0.6`\n",
    "2. Node2vec + Logistic regression with `Accuracy:0.703`\n",
    "3. Node2vec with Bag of word + Logistic regression with `Accuracy:0.707`\n",
    "4. GraphSAGE: with Bag of word + Logistic regression with `Accuracy:0.791`\n",
    "4. GCN: end-to-end learning with `Accuracy:0.812`\n",
    "\n",
    "From this example, we clearly figure out that using GCN with end2end training leads to the best performance since the feature extracted could be learned to optimize the node classification task."
   ]
  },
  {
   "cell_type": "markdown",
   "id": "8916526c",
   "metadata": {
    "id": "8916526c"
   },
   "source": [
    "## Visualization"
   ]
  },
  {
   "cell_type": "code",
   "execution_count": 41,
   "id": "1b3bfb53",
   "metadata": {
    "colab": {
     "base_uri": "https://localhost:8080/",
     "height": 557
    },
    "executionInfo": {
     "elapsed": 20744,
     "status": "ok",
     "timestamp": 1663386875594,
     "user": {
      "displayName": "Yu-Che Tsai",
      "userId": "11097797349614937936"
     },
     "user_tz": -480
    },
    "id": "1b3bfb53",
    "outputId": "0587c6e4-706e-4faf-803d-0de149019af6"
   },
   "outputs": [
    {
     "name": "stderr",
     "output_type": "stream",
     "text": [
      "/usr/local/lib/python3.7/dist-packages/sklearn/manifold/_t_sne.py:783: FutureWarning: The default initialization in TSNE will change from 'random' to 'pca' in 1.2.\n",
      "  FutureWarning,\n",
      "/usr/local/lib/python3.7/dist-packages/sklearn/manifold/_t_sne.py:793: FutureWarning: The default learning rate in TSNE will change from 200.0 to 'auto' in 1.2.\n",
      "  FutureWarning,\n"
     ]
    },
    {
     "data": {
      "image/png": "[encoded data removed]",
      "text/plain": [
       "<Figure size 576x576 with 1 Axes>"
      ]
     },
     "metadata": {
      "needs_background": "light"
     },
     "output_type": "display_data"
    }
   ],
   "source": [
    "from sklearn.manifold import TSNE\n",
    "import matplotlib.pyplot as plt\n",
    "\n",
    "@torch.no_grad()\n",
    "def plot_points(colors):\n",
    "    model.eval()\n",
    "    z = model(data.x, data.edge_index, data.edge_weight)\n",
    "    z = TSNE(n_components=2).fit_transform(z.cpu().numpy())\n",
    "    y = data.y.cpu().numpy()\n",
    "\n",
    "    plt.figure(figsize=(8, 8))\n",
    "    for i in range(dataset.num_classes):\n",
    "        plt.scatter(z[y == i, 0], z[y == i, 1], s=20, color=colors[i])\n",
    "    plt.axis('off')\n",
    "    plt.show()\n",
    "\n",
    "colors = [\n",
    "    '#ffc0cb', '#bada55', '#008080', '#420420', '#7fe5f0', '#065535',\n",
    "    '#ffd700'\n",
    "]\n",
    "plot_points(colors)"
   ]
  },
  {
   "cell_type": "markdown",
   "id": "083d55a1",
   "metadata": {
    "id": "083d55a1"
   },
   "source": [
    "### Compare GCN embedding with Node2vec embedding \n",
    "The following scatter plot is the node embedding we obtained from Node2vec in the previous example\n",
    "![](https://i.imgur.com/7RG5zO6.png)"
   ]
  },
  {
   "cell_type": "markdown",
   "id": "88980f9d",
   "metadata": {
    "id": "88980f9d"
   },
   "source": [
    "## Stacking multiple GCN layers to obtain higher order neighbor information\n",
    "\n"
   ]
  },
  {
   "cell_type": "code",
   "execution_count": 43,
   "id": "e2822ae7",
   "metadata": {
    "executionInfo": {
     "elapsed": 365,
     "status": "ok",
     "timestamp": 1663386949735,
     "user": {
      "displayName": "Yu-Che Tsai",
      "userId": "11097797349614937936"
     },
     "user_tz": -480
    },
    "id": "e2822ae7"
   },
   "outputs": [],
   "source": [
    "class GCN(torch.nn.Module):\n",
    "    def __init__(self, in_channels, hidden_channels, out_channels):\n",
    "        super().__init__()\n",
    "        self.conv1 = GCNConv(in_channels, hidden_channels, cached=True,\n",
    "                             normalize=True)\n",
    "        self.conv2 = GCNConv(hidden_channels, hidden_channels, cached=True,\n",
    "                             normalize=True)\n",
    "        self.conv3 = GCNConv(hidden_channels, out_channels, cached=True,\n",
    "                             normalize=True)\n",
    "\n",
    "    def forward(self, x, edge_index, edge_weight=None):\n",
    "        x = F.dropout(x, p=0.5, training=self.training)\n",
    "        x = self.conv1(x, edge_index, edge_weight).relu()\n",
    "        x = F.dropout(x, p=0.5, training=self.training)\n",
    "        x = self.conv2(x, edge_index, edge_weight).relu()\n",
    "        x = F.dropout(x, p=0.5, training=self.training)\n",
    "        x = self.conv3(x, edge_index, edge_weight)\n",
    "        return x"
   ]
  },
  {
   "cell_type": "code",
   "execution_count": 44,
   "id": "5d786d2b",
   "metadata": {
    "colab": {
     "base_uri": "https://localhost:8080/"
    },
    "executionInfo": {
     "elapsed": 5,
     "status": "ok",
     "timestamp": 1663386950131,
     "user": {
      "displayName": "Yu-Che Tsai",
      "userId": "11097797349614937936"
     },
     "user_tz": -480
    },
    "id": "5d786d2b",
    "outputId": "8ff57540-2046-4143-d620-d1175178704f"
   },
   "outputs": [
    {
     "name": "stdout",
     "output_type": "stream",
     "text": [
      "GCN(\n",
      "  (conv1): GCNConv(1433, 64)\n",
      "  (conv2): GCNConv(64, 64)\n",
      "  (conv3): GCNConv(64, 7)\n",
      ")\n"
     ]
    }
   ],
   "source": [
    "dim = 64\n",
    "model = GCN(dataset.num_features, dim, dataset.num_classes)\n",
    "model, data = model.to(device), data.to(device)\n",
    "optimizer = torch.optim.Adam(model.parameters(),weight_decay=1e-4)\n",
    "print(model)"
   ]
  },
  {
   "cell_type": "code",
   "execution_count": 45,
   "id": "cbca650d",
   "metadata": {
    "colab": {
     "base_uri": "https://localhost:8080/"
    },
    "executionInfo": {
     "elapsed": 1338,
     "status": "ok",
     "timestamp": 1663386952768,
     "user": {
      "displayName": "Yu-Che Tsai",
      "userId": "11097797349614937936"
     },
     "user_tz": -480
    },
    "id": "cbca650d",
    "outputId": "a82051c1-1d95-470f-939b-b0bda72e5ae4"
   },
   "outputs": [
    {
     "name": "stdout",
     "output_type": "stream",
     "text": [
      "Loss:1.9457 Testing accuracy:0.2910\n",
      "Loss:1.9452 Testing accuracy:0.3500\n",
      "Loss:1.9438 Testing accuracy:0.3950\n",
      "Loss:1.9430 Testing accuracy:0.4480\n",
      "Loss:1.9418 Testing accuracy:0.4630\n",
      "Loss:1.9411 Testing accuracy:0.4690\n",
      "Loss:1.9399 Testing accuracy:0.4710\n",
      "Loss:1.9384 Testing accuracy:0.4590\n",
      "Loss:1.9361 Testing accuracy:0.4430\n",
      "Loss:1.9350 Testing accuracy:0.4420\n",
      "Loss:1.9332 Testing accuracy:0.4280\n",
      "Loss:1.9331 Testing accuracy:0.4320\n",
      "Loss:1.9307 Testing accuracy:0.4350\n",
      "Loss:1.9279 Testing accuracy:0.4470\n",
      "Loss:1.9266 Testing accuracy:0.4550\n",
      "Loss:1.9243 Testing accuracy:0.4650\n",
      "Loss:1.9206 Testing accuracy:0.4720\n",
      "Loss:1.9208 Testing accuracy:0.4610\n",
      "Loss:1.9167 Testing accuracy:0.4520\n",
      "Loss:1.9137 Testing accuracy:0.4450\n",
      "Loss:1.9105 Testing accuracy:0.4300\n",
      "Loss:1.9067 Testing accuracy:0.4260\n",
      "Loss:1.9055 Testing accuracy:0.4270\n",
      "Loss:1.9027 Testing accuracy:0.4330\n",
      "Loss:1.8984 Testing accuracy:0.4430\n",
      "Loss:1.8956 Testing accuracy:0.4530\n",
      "Loss:1.8924 Testing accuracy:0.4550\n",
      "Loss:1.8842 Testing accuracy:0.4570\n",
      "Loss:1.8756 Testing accuracy:0.4600\n",
      "Loss:1.8820 Testing accuracy:0.4630\n",
      "Loss:1.8793 Testing accuracy:0.4760\n",
      "Loss:1.8664 Testing accuracy:0.4790\n",
      "Loss:1.8602 Testing accuracy:0.4800\n",
      "Loss:1.8550 Testing accuracy:0.4760\n",
      "Loss:1.8568 Testing accuracy:0.4720\n",
      "Loss:1.8540 Testing accuracy:0.4730\n",
      "Loss:1.8507 Testing accuracy:0.4760\n",
      "Loss:1.8355 Testing accuracy:0.4790\n",
      "Loss:1.8265 Testing accuracy:0.4820\n",
      "Loss:1.8269 Testing accuracy:0.4860\n",
      "Loss:1.8317 Testing accuracy:0.4880\n",
      "Loss:1.8162 Testing accuracy:0.4960\n",
      "Loss:1.8066 Testing accuracy:0.4980\n",
      "Loss:1.7883 Testing accuracy:0.5040\n",
      "Loss:1.7904 Testing accuracy:0.5090\n",
      "Loss:1.7732 Testing accuracy:0.5100\n",
      "Loss:1.7776 Testing accuracy:0.5110\n",
      "Loss:1.7686 Testing accuracy:0.5140\n",
      "Loss:1.7499 Testing accuracy:0.5170\n",
      "Loss:1.7429 Testing accuracy:0.5190\n",
      "Loss:1.7455 Testing accuracy:0.5210\n",
      "Loss:1.7269 Testing accuracy:0.5210\n",
      "Loss:1.7183 Testing accuracy:0.5240\n",
      "Loss:1.7145 Testing accuracy:0.5290\n",
      "Loss:1.7095 Testing accuracy:0.5340\n",
      "Loss:1.6888 Testing accuracy:0.5360\n",
      "Loss:1.6821 Testing accuracy:0.5430\n",
      "Loss:1.6740 Testing accuracy:0.5490\n",
      "Loss:1.6564 Testing accuracy:0.5540\n",
      "Loss:1.6473 Testing accuracy:0.5560\n",
      "Loss:1.6474 Testing accuracy:0.5620\n",
      "Loss:1.6275 Testing accuracy:0.5730\n",
      "Loss:1.6066 Testing accuracy:0.5820\n",
      "Loss:1.6114 Testing accuracy:0.5850\n",
      "Loss:1.5822 Testing accuracy:0.5900\n",
      "Loss:1.5963 Testing accuracy:0.5920\n",
      "Loss:1.5591 Testing accuracy:0.5920\n",
      "Loss:1.5577 Testing accuracy:0.5860\n",
      "Loss:1.5366 Testing accuracy:0.5840\n",
      "Loss:1.5092 Testing accuracy:0.5840\n",
      "Loss:1.5106 Testing accuracy:0.5820\n",
      "Loss:1.4790 Testing accuracy:0.5820\n",
      "Loss:1.4840 Testing accuracy:0.5750\n",
      "Loss:1.4665 Testing accuracy:0.5750\n",
      "Loss:1.4792 Testing accuracy:0.5760\n",
      "Loss:1.4595 Testing accuracy:0.5800\n",
      "Loss:1.4215 Testing accuracy:0.5910\n",
      "Loss:1.4268 Testing accuracy:0.5980\n",
      "Loss:1.4141 Testing accuracy:0.6080\n",
      "Loss:1.3763 Testing accuracy:0.6210\n",
      "Loss:1.3440 Testing accuracy:0.6290\n",
      "Loss:1.3673 Testing accuracy:0.6340\n",
      "Loss:1.3657 Testing accuracy:0.6410\n",
      "Loss:1.3438 Testing accuracy:0.6470\n",
      "Loss:1.3124 Testing accuracy:0.6510\n",
      "Loss:1.2917 Testing accuracy:0.6590\n",
      "Loss:1.2922 Testing accuracy:0.6710\n",
      "Loss:1.2450 Testing accuracy:0.6760\n",
      "Loss:1.2453 Testing accuracy:0.6800\n",
      "Loss:1.2655 Testing accuracy:0.6830\n",
      "Loss:1.2389 Testing accuracy:0.6850\n",
      "Loss:1.1927 Testing accuracy:0.6880\n",
      "Loss:1.1699 Testing accuracy:0.6950\n",
      "Loss:1.1506 Testing accuracy:0.7020\n",
      "Loss:1.1642 Testing accuracy:0.7140\n",
      "Loss:1.1370 Testing accuracy:0.7240\n",
      "Loss:1.1484 Testing accuracy:0.7260\n",
      "Loss:1.1288 Testing accuracy:0.7330\n",
      "Loss:1.1347 Testing accuracy:0.7340\n",
      "Loss:1.0903 Testing accuracy:0.7410\n",
      "Loss:1.0685 Testing accuracy:0.7430\n",
      "Loss:1.0572 Testing accuracy:0.7480\n",
      "Loss:1.0176 Testing accuracy:0.7520\n",
      "Loss:1.0040 Testing accuracy:0.7570\n",
      "Loss:0.9769 Testing accuracy:0.7580\n",
      "Loss:1.0069 Testing accuracy:0.7620\n",
      "Loss:1.0257 Testing accuracy:0.7660\n",
      "Loss:0.9509 Testing accuracy:0.7680\n",
      "Loss:0.9694 Testing accuracy:0.7710\n",
      "Loss:0.9430 Testing accuracy:0.7720\n",
      "Loss:0.9104 Testing accuracy:0.7730\n",
      "Loss:0.9212 Testing accuracy:0.7740\n",
      "Loss:0.8774 Testing accuracy:0.7770\n",
      "Loss:0.8706 Testing accuracy:0.7830\n",
      "Loss:0.8626 Testing accuracy:0.7810\n",
      "Loss:0.8513 Testing accuracy:0.7820\n",
      "Loss:0.8290 Testing accuracy:0.7810\n",
      "Loss:0.8515 Testing accuracy:0.7780\n",
      "Loss:0.8210 Testing accuracy:0.7820\n",
      "Loss:0.8271 Testing accuracy:0.7840\n",
      "Loss:0.7730 Testing accuracy:0.7900\n",
      "Loss:0.7637 Testing accuracy:0.7890\n",
      "Loss:0.7670 Testing accuracy:0.7940\n",
      "Loss:0.7675 Testing accuracy:0.8000\n",
      "Loss:0.7649 Testing accuracy:0.8050\n",
      "Loss:0.7297 Testing accuracy:0.8080\n",
      "Loss:0.7065 Testing accuracy:0.8070\n",
      "Loss:0.7011 Testing accuracy:0.8050\n",
      "Loss:0.6942 Testing accuracy:0.8060\n",
      "Loss:0.6705 Testing accuracy:0.8070\n",
      "Loss:0.6732 Testing accuracy:0.8060\n",
      "Loss:0.6531 Testing accuracy:0.8020\n",
      "Loss:0.6565 Testing accuracy:0.8010\n",
      "Loss:0.6713 Testing accuracy:0.7990\n",
      "Loss:0.6149 Testing accuracy:0.7980\n",
      "Loss:0.6263 Testing accuracy:0.8000\n",
      "Loss:0.5885 Testing accuracy:0.8000\n",
      "Loss:0.6019 Testing accuracy:0.8050\n",
      "Loss:0.5992 Testing accuracy:0.8050\n",
      "Loss:0.5885 Testing accuracy:0.8070\n",
      "Loss:0.6316 Testing accuracy:0.8060\n",
      "Loss:0.5893 Testing accuracy:0.8070\n",
      "Loss:0.5684 Testing accuracy:0.8080\n",
      "Loss:0.5275 Testing accuracy:0.8080\n",
      "Loss:0.5456 Testing accuracy:0.8110\n",
      "Loss:0.5547 Testing accuracy:0.8090\n",
      "Loss:0.5445 Testing accuracy:0.8080\n",
      "Loss:0.5430 Testing accuracy:0.8090\n",
      "Loss:0.5173 Testing accuracy:0.8070\n",
      "Loss:0.4960 Testing accuracy:0.8060\n",
      "Loss:0.5331 Testing accuracy:0.8060\n",
      "Loss:0.4837 Testing accuracy:0.8030\n",
      "Loss:0.4907 Testing accuracy:0.8020\n",
      "Loss:0.4811 Testing accuracy:0.8040\n",
      "Loss:0.4632 Testing accuracy:0.8030\n",
      "Loss:0.4864 Testing accuracy:0.8040\n",
      "Loss:0.4763 Testing accuracy:0.8070\n",
      "Loss:0.4706 Testing accuracy:0.8090\n",
      "Loss:0.4339 Testing accuracy:0.8070\n",
      "Loss:0.4596 Testing accuracy:0.8110\n",
      "Loss:0.4017 Testing accuracy:0.8100\n",
      "Loss:0.4081 Testing accuracy:0.8080\n",
      "Loss:0.4228 Testing accuracy:0.8090\n",
      "Loss:0.3995 Testing accuracy:0.8080\n",
      "Loss:0.3625 Testing accuracy:0.8070\n",
      "Loss:0.3967 Testing accuracy:0.8090\n",
      "Loss:0.3839 Testing accuracy:0.8120\n",
      "Loss:0.4208 Testing accuracy:0.8120\n",
      "Loss:0.3766 Testing accuracy:0.8090\n",
      "Loss:0.3881 Testing accuracy:0.8080\n",
      "Loss:0.3823 Testing accuracy:0.8110\n",
      "Loss:0.3853 Testing accuracy:0.8100\n",
      "Loss:0.3889 Testing accuracy:0.8110\n",
      "Loss:0.3309 Testing accuracy:0.8100\n",
      "Loss:0.3708 Testing accuracy:0.8100\n",
      "Loss:0.3464 Testing accuracy:0.8100\n",
      "Loss:0.3716 Testing accuracy:0.8100\n",
      "Loss:0.3576 Testing accuracy:0.8110\n",
      "Loss:0.3534 Testing accuracy:0.8120\n",
      "Loss:0.3460 Testing accuracy:0.8110\n",
      "Loss:0.3206 Testing accuracy:0.8100\n",
      "Loss:0.3237 Testing accuracy:0.8110\n",
      "Loss:0.3211 Testing accuracy:0.8140\n",
      "Loss:0.2982 Testing accuracy:0.8140\n",
      "Loss:0.3115 Testing accuracy:0.8120\n",
      "Loss:0.3384 Testing accuracy:0.8100\n",
      "Loss:0.3027 Testing accuracy:0.8090\n",
      "Loss:0.2979 Testing accuracy:0.8120\n",
      "Loss:0.2993 Testing accuracy:0.8110\n",
      "Loss:0.2952 Testing accuracy:0.8120\n",
      "Loss:0.2699 Testing accuracy:0.8110\n",
      "Loss:0.2721 Testing accuracy:0.8130\n",
      "Loss:0.2779 Testing accuracy:0.8100\n",
      "Loss:0.2946 Testing accuracy:0.8110\n",
      "Loss:0.2706 Testing accuracy:0.8110\n",
      "Loss:0.2953 Testing accuracy:0.8100\n",
      "Loss:0.2649 Testing accuracy:0.8130\n",
      "Loss:0.2973 Testing accuracy:0.8130\n",
      "Loss:0.2731 Testing accuracy:0.8150\n",
      "Loss:0.3167 Testing accuracy:0.8170\n"
     ]
    }
   ],
   "source": [
    "for epoch in range(200):\n",
    "    loss = train()\n",
    "    test_acc = test()\n",
    "    print(f\"Loss:{loss:.4f} Testing accuracy:{test_acc:.4f}\")"
   ]
  },
  {
   "cell_type": "markdown",
   "id": "d347b13c",
   "metadata": {
    "id": "d347b13c"
   },
   "source": [
    "## Applying different GNN backbone layer\n",
    "The full list of implemented GNN could be found in [here.](https://pytorch-geometric.readthedocs.io/en/latest/modules/nn.html#convolutional-layers)"
   ]
  },
  {
   "cell_type": "code",
   "execution_count": 46,
   "id": "765f7d34",
   "metadata": {
    "executionInfo": {
     "elapsed": 272,
     "status": "ok",
     "timestamp": 1663387016492,
     "user": {
      "displayName": "Yu-Che Tsai",
      "userId": "11097797349614937936"
     },
     "user_tz": -480
    },
    "id": "765f7d34"
   },
   "outputs": [],
   "source": [
    "from torch_geometric.nn import GCNConv,GATConv, GraphSAGE\n",
    "import torch.nn.functional as F\n",
    "\n",
    "class GNN(torch.nn.Module):\n",
    "    def __init__(self, in_channels, hidden_channels, out_channels, gnn_type):\n",
    "        super().__init__()\n",
    "        if gnn_type == \"GCN\":\n",
    "            self.GNN = GCNConv\n",
    "        elif gnn_type == \"SAGE\":\n",
    "            self.GNN = GraphSAGE\n",
    "        elif gnn_type == \"GAT\":\n",
    "            self.GNN = GATConv\n",
    "        \n",
    "        self.conv1 = self.GNN(in_channels, hidden_channels)\n",
    "        self.conv2 = self.GNN(hidden_channels, out_channels)\n",
    "\n",
    "    def forward(self, x, edge_index, edge_weight=None):\n",
    "        x = F.dropout(x, p=0.5, training=self.training)\n",
    "        x = self.conv1(x, edge_index, edge_weight).relu()\n",
    "        x = F.dropout(x, p=0.5, training=self.training)\n",
    "        x = self.conv2(x, edge_index, edge_weight)\n",
    "        return x"
   ]
  },
  {
   "cell_type": "code",
   "execution_count": 47,
   "id": "f37bd755",
   "metadata": {
    "colab": {
     "base_uri": "https://localhost:8080/"
    },
    "executionInfo": {
     "elapsed": 2,
     "status": "ok",
     "timestamp": 1663387016912,
     "user": {
      "displayName": "Yu-Che Tsai",
      "userId": "11097797349614937936"
     },
     "user_tz": -480
    },
    "id": "f37bd755",
    "outputId": "7c33b9d5-4dd0-4305-ca6e-c1bee2a074d7"
   },
   "outputs": [
    {
     "name": "stdout",
     "output_type": "stream",
     "text": [
      "GNN(\n",
      "  (conv1): GATConv(1433, 32, heads=1)\n",
      "  (conv2): GATConv(32, 7, heads=1)\n",
      ")\n"
     ]
    }
   ],
   "source": [
    "dim = 32\n",
    "gnn_type = \"GAT\"\n",
    "model = GNN(dataset.num_features, dim, dataset.num_classes,gnn_type=gnn_type)\n",
    "model, data = model.to(device), data.to(device)\n",
    "optimizer = torch.optim.Adam(model.parameters())\n",
    "print(model)"
   ]
  },
  {
   "cell_type": "markdown",
   "id": "afe00d31",
   "metadata": {
    "id": "afe00d31"
   },
   "source": [
    "# Practice: Link prediction with GNN\n",
    "1. Try different GNN layer\n",
    "2. Try to optimize the performance by stacking multiple layers\n",
    "3. Report the best accuracy on testing set and the best model configuration(e.g., how many layers?)"
   ]
  },
  {
   "cell_type": "code",
   "execution_count": 48,
   "id": "cfb91924",
   "metadata": {
    "executionInfo": {
     "elapsed": 281,
     "status": "ok",
     "timestamp": 1663387050805,
     "user": {
      "displayName": "Yu-Che Tsai",
      "userId": "11097797349614937936"
     },
     "user_tz": -480
    },
    "id": "cfb91924"
   },
   "outputs": [],
   "source": [
    "# Let's practice how to use GNN for link prediction\n",
    "# First we need to load the Cora dataset\n",
    "\n",
    "import os.path as osp\n",
    "import torch\n",
    "from sklearn.metrics import roc_auc_score\n",
    "import torch_geometric.transforms as T\n",
    "from torch_geometric.datasets import Planetoid\n",
    "from torch_geometric.utils import negative_sampling\n",
    "\n",
    "\n",
    "device = torch.device('cuda' if torch.cuda.is_available() else 'cpu')\n",
    "transform = T.Compose([\n",
    "    T.NormalizeFeatures(),\n",
    "    T.ToDevice(device),\n",
    "    T.RandomLinkSplit(num_val=0.05, num_test=0.1, is_undirected=True,\n",
    "                      add_negative_train_samples=True),\n",
    "])\n",
    "dataset = Planetoid(path, name='Cora', transform=transform)\n",
    "train_data, val_data, test_data = dataset[0]"
   ]
  },
  {
   "cell_type": "code",
   "execution_count": 49,
   "id": "43bed8c6",
   "metadata": {
    "colab": {
     "base_uri": "https://localhost:8080/"
    },
    "executionInfo": {
     "elapsed": 297,
     "status": "ok",
     "timestamp": 1663387060011,
     "user": {
      "displayName": "Yu-Che Tsai",
      "userId": "11097797349614937936"
     },
     "user_tz": -480
    },
    "id": "43bed8c6",
    "outputId": "24659c22-d453-4534-db45-9d742e94c9b9"
   },
   "outputs": [
    {
     "name": "stdout",
     "output_type": "stream",
     "text": [
      "--------Training data------\n",
      "Data(x=[2708, 1433], edge_index=[2, 8976], y=[2708], train_mask=[2708], val_mask=[2708], test_mask=[2708], edge_label=[8976], edge_label_index=[2, 8976])\n",
      "Training edges:\n",
      "tensor([[1596,  484,  306,  ...,  669,  187,  532],\n",
      "        [2476, 2046, 1640,  ..., 2617, 1372,  198]], device='cuda:0')\n",
      "Labels\n",
      "tensor([1., 1., 1.,  ..., 0., 0., 0.], device='cuda:0')\n",
      "\n",
      "--------Testing data------\n",
      "Data(x=[2708, 1433], edge_index=[2, 9502], y=[2708], train_mask=[2708], val_mask=[2708], test_mask=[2708], edge_label=[1054], edge_label_index=[2, 1054])\n",
      "Testing edges:\n",
      "tensor([[ 310,  415, 1169,  ..., 2625,  345, 1044],\n",
      "        [1331,  851, 1714,  ..., 1713, 1586, 1713]], device='cuda:0')\n",
      "Labels\n",
      "tensor([1., 1., 1.,  ..., 0., 0., 0.], device='cuda:0')\n"
     ]
    }
   ],
   "source": [
    "print(\"--------Training data------\")\n",
    "print(train_data)\n",
    "print(\"Training edges:\")\n",
    "print(train_data.edge_label_index)\n",
    "print(\"Labels\")\n",
    "print(train_data.edge_label)\n",
    "\n",
    "print()\n",
    "print(\"--------Testing data------\")\n",
    "print(test_data)\n",
    "print(\"Testing edges:\")\n",
    "print(test_data.edge_label_index)\n",
    "print(\"Labels\")\n",
    "print(test_data.edge_label)"
   ]
  },
  {
   "cell_type": "code",
   "execution_count": 50,
   "id": "8ccc3487",
   "metadata": {
    "executionInfo": {
     "elapsed": 1021,
     "status": "ok",
     "timestamp": 1663389253599,
     "user": {
      "displayName": "Yu-Che Tsai",
      "userId": "11097797349614937936"
     },
     "user_tz": -480
    },
    "id": "8ccc3487"
   },
   "outputs": [],
   "source": [
    "class MyGNN(torch.nn.Module):\n",
    "    def __init__(self, in_channels, hidden_channels, out_channels):\n",
    "        super().__init__()\n",
    "        ############################################################################\n",
    "        # TODO: Your code here! \n",
    "        # create you GNN layer here. \n",
    "        # try to use different GNN backbone layer or stacking multiple layer to boost performance\n",
    "        self.conv1 = GCNConv(in_channels, hidden_channels)\n",
    "        self.conv2 = GCNConv(hidden_channels, out_channels)\n",
    "        \n",
    "        ############################################################################\n",
    "\n",
    "    def forward(self, x, edge_index):\n",
    "        ############################################################################\n",
    "        # TODO: Your code here! \n",
    "        # Apply the forward pass acorrding to your GNN layers\n",
    "        # you shoud return the embedding of each node (x has shape [num_nodes, dim])\n",
    "        x = F.relu(self.conv1(x, edge_index))\n",
    "        \n",
    "        return self.conv2(x, edge_index)\n",
    "        ############################################################################\n",
    "    \n",
    "    def get_prediction(self,node_embedding, edges):\n",
    "        # In this function, we have the node embedding and edges as input\n",
    "        # The output is to generate a scalar for each pair of edge\n",
    "        # To generate such output, we use the inner product of embeddings of two nodes\n",
    "        # Input shapes:\n",
    "        #      node_embedding: (|V|, out_channels)\n",
    "        #      edges: (2, number of edges)\n",
    "        embedding_first_node = node_embedding[edges[0]]\n",
    "        embedding_second_node = node_embedding[edges[1]]\n",
    "        ############################################################################\n",
    "        # TODO: Your code here! \n",
    "        # implement the element-wise product as edge feature for link prediction\n",
    "        inner_product = torch.sum(embedding_first_node * embedding_second_node, dim=-1)\n",
    "        \n",
    "        ############################################################################\n",
    "        return inner_product"
   ]
  },
  {
   "cell_type": "code",
   "execution_count": 51,
   "id": "8236b1d0",
   "metadata": {
    "executionInfo": {
     "elapsed": 6,
     "status": "ok",
     "timestamp": 1663389254662,
     "user": {
      "displayName": "Yu-Che Tsai",
      "userId": "11097797349614937936"
     },
     "user_tz": -480
    },
    "id": "8236b1d0"
   },
   "outputs": [],
   "source": [
    "############################################################################\n",
    "# TODO: Your code here! \n",
    "# initiate your GNN model and select the criterion for link prediction\n",
    "\n",
    "model = MyGNN(dataset.num_features, 128, 64).to(device)\n",
    "optimizer = torch.optim.Adam(params=model.parameters(), lr=0.01)\n",
    "criterion = torch.nn.BCEWithLogitsLoss()\n",
    "############################################################################"
   ]
  },
  {
   "cell_type": "code",
   "execution_count": 52,
   "id": "52305879",
   "metadata": {
    "executionInfo": {
     "elapsed": 6,
     "status": "ok",
     "timestamp": 1663389254663,
     "user": {
      "displayName": "Yu-Che Tsai",
      "userId": "11097797349614937936"
     },
     "user_tz": -480
    },
    "id": "52305879"
   },
   "outputs": [],
   "source": [
    "# Implement the train function\n",
    "def train():\n",
    "    model.train()\n",
    "    optimizer.zero_grad()\n",
    "    embedding = model(train_data.x, train_data.edge_index)\n",
    "\n",
    "    # We perform a new round of negative sampling for every training epoch:\n",
    "    neg_edge_index = negative_sampling(\n",
    "        edge_index=train_data.edge_index, num_nodes=train_data.num_nodes,\n",
    "        num_neg_samples=train_data.edge_label_index.size(1), method='sparse')\n",
    "\n",
    "    edge_label_index = torch.cat(\n",
    "        [train_data.edge_label_index, neg_edge_index],\n",
    "        dim=-1,\n",
    "    )\n",
    "    \n",
    "    # Please assign the target for negative edges\n",
    "    \n",
    "    edge_label = torch.cat([\n",
    "        train_data.edge_label,\n",
    "        train_data.edge_label.new_zeros(neg_edge_index.size(1))\n",
    "    ], dim=0)\n",
    "    \n",
    "    # make prediction\n",
    "    prediction = model.get_prediction(embedding, edge_label_index).view(-1)\n",
    "    \n",
    "    # optimization\n",
    "    loss = criterion(prediction, edge_label)\n",
    "    loss.backward()\n",
    "    optimizer.step()\n",
    "    return loss"
   ]
  },
  {
   "cell_type": "code",
   "execution_count": 53,
   "id": "ad8d6158",
   "metadata": {
    "executionInfo": {
     "elapsed": 6,
     "status": "ok",
     "timestamp": 1663389254663,
     "user": {
      "displayName": "Yu-Che Tsai",
      "userId": "11097797349614937936"
     },
     "user_tz": -480
    },
    "id": "ad8d6158"
   },
   "outputs": [],
   "source": [
    "# Implement the test function\n",
    "@torch.no_grad()\n",
    "def test(data):\n",
    "    model.eval()\n",
    "    embedding = model(data.x, data.edge_index)\n",
    "    \n",
    "    # use the sigmoid function to normalize our prediction into [0,1]\n",
    "    out = model.get_prediction(embedding, data.edge_label_index).view(-1).sigmoid()\n",
    "    return roc_auc_score(data.edge_label.cpu().numpy(), out.cpu().numpy())"
   ]
  },
  {
   "cell_type": "code",
   "execution_count": 54,
   "id": "f60a1f15",
   "metadata": {
    "colab": {
     "base_uri": "https://localhost:8080/"
    },
    "executionInfo": {
     "elapsed": 2360,
     "status": "ok",
     "timestamp": 1663389257017,
     "user": {
      "displayName": "Yu-Che Tsai",
      "userId": "11097797349614937936"
     },
     "user_tz": -480
    },
    "id": "f60a1f15",
    "outputId": "c3f96ee5-852a-4357-950d-add431c7cd23",
    "scrolled": true
   },
   "outputs": [
    {
     "name": "stdout",
     "output_type": "stream",
     "text": [
      "Epoch: 001, Loss: 0.6932, Val: 0.6616, Test: 0.6858\n",
      "Epoch: 002, Loss: 0.7005, Val: 0.7403, Test: 0.7538\n",
      "Epoch: 003, Loss: 0.6937, Val: 0.6222, Test: 0.6598\n",
      "Epoch: 004, Loss: 0.6935, Val: 0.5163, Test: 0.5471\n",
      "Epoch: 005, Loss: 0.6940, Val: 0.5225, Test: 0.5192\n",
      "Epoch: 006, Loss: 0.6944, Val: 0.5649, Test: 0.5557\n",
      "Epoch: 007, Loss: 0.6943, Val: 0.6175, Test: 0.6413\n",
      "Epoch: 008, Loss: 0.6939, Val: 0.6302, Test: 0.6136\n",
      "Epoch: 009, Loss: 0.6936, Val: 0.6356, Test: 0.6328\n",
      "Epoch: 010, Loss: 0.6934, Val: 0.6027, Test: 0.6005\n",
      "Epoch: 011, Loss: 0.6933, Val: 0.5619, Test: 0.5481\n",
      "Epoch: 012, Loss: 0.6934, Val: 0.4971, Test: 0.4798\n",
      "Epoch: 013, Loss: 0.6934, Val: 0.4921, Test: 0.4760\n",
      "Epoch: 014, Loss: 0.6935, Val: 0.5375, Test: 0.5343\n",
      "Epoch: 015, Loss: 0.6934, Val: 0.6174, Test: 0.5976\n",
      "Epoch: 016, Loss: 0.6933, Val: 0.7063, Test: 0.6495\n",
      "Epoch: 017, Loss: 0.6932, Val: 0.7103, Test: 0.6547\n",
      "Epoch: 018, Loss: 0.6931, Val: 0.7049, Test: 0.6613\n",
      "Epoch: 019, Loss: 0.6929, Val: 0.7155, Test: 0.6676\n",
      "Epoch: 020, Loss: 0.6927, Val: 0.7050, Test: 0.6678\n",
      "Epoch: 021, Loss: 0.6923, Val: 0.7051, Test: 0.6665\n",
      "Epoch: 022, Loss: 0.6920, Val: 0.7017, Test: 0.6686\n",
      "Epoch: 023, Loss: 0.6914, Val: 0.6971, Test: 0.6668\n",
      "Epoch: 024, Loss: 0.6907, Val: 0.6948, Test: 0.6705\n",
      "Epoch: 025, Loss: 0.6897, Val: 0.6956, Test: 0.6742\n",
      "Epoch: 026, Loss: 0.6885, Val: 0.6961, Test: 0.6851\n",
      "Epoch: 027, Loss: 0.6870, Val: 0.6977, Test: 0.6932\n",
      "Epoch: 028, Loss: 0.6849, Val: 0.7015, Test: 0.7045\n",
      "Epoch: 029, Loss: 0.6817, Val: 0.7057, Test: 0.7166\n",
      "Epoch: 030, Loss: 0.6787, Val: 0.7120, Test: 0.7217\n",
      "Epoch: 031, Loss: 0.6766, Val: 0.7181, Test: 0.7276\n",
      "Epoch: 032, Loss: 0.6743, Val: 0.7251, Test: 0.7332\n",
      "Epoch: 033, Loss: 0.6682, Val: 0.7294, Test: 0.7384\n",
      "Epoch: 034, Loss: 0.6688, Val: 0.7357, Test: 0.7419\n",
      "Epoch: 035, Loss: 0.6651, Val: 0.7402, Test: 0.7453\n",
      "Epoch: 036, Loss: 0.6649, Val: 0.7402, Test: 0.7490\n",
      "Epoch: 037, Loss: 0.6659, Val: 0.7422, Test: 0.7522\n",
      "Epoch: 038, Loss: 0.6616, Val: 0.7464, Test: 0.7559\n",
      "Epoch: 039, Loss: 0.6616, Val: 0.7484, Test: 0.7585\n",
      "Epoch: 040, Loss: 0.6601, Val: 0.7454, Test: 0.7591\n",
      "Epoch: 041, Loss: 0.6549, Val: 0.7452, Test: 0.7605\n",
      "Epoch: 042, Loss: 0.6532, Val: 0.7493, Test: 0.7649\n",
      "Epoch: 043, Loss: 0.6535, Val: 0.7498, Test: 0.7668\n",
      "Epoch: 044, Loss: 0.6525, Val: 0.7475, Test: 0.7672\n",
      "Epoch: 045, Loss: 0.6525, Val: 0.7495, Test: 0.7683\n",
      "Epoch: 046, Loss: 0.6508, Val: 0.7528, Test: 0.7713\n",
      "Epoch: 047, Loss: 0.6500, Val: 0.7536, Test: 0.7721\n",
      "Epoch: 048, Loss: 0.6476, Val: 0.7536, Test: 0.7708\n",
      "Epoch: 049, Loss: 0.6474, Val: 0.7559, Test: 0.7725\n",
      "Epoch: 050, Loss: 0.6446, Val: 0.7602, Test: 0.7763\n",
      "Epoch: 051, Loss: 0.6466, Val: 0.7608, Test: 0.7768\n",
      "Epoch: 052, Loss: 0.6450, Val: 0.7609, Test: 0.7764\n",
      "Epoch: 053, Loss: 0.6473, Val: 0.7650, Test: 0.7791\n",
      "Epoch: 054, Loss: 0.6424, Val: 0.7661, Test: 0.7797\n",
      "Epoch: 055, Loss: 0.6415, Val: 0.7623, Test: 0.7781\n",
      "Epoch: 056, Loss: 0.6450, Val: 0.7664, Test: 0.7809\n",
      "Epoch: 057, Loss: 0.6426, Val: 0.7651, Test: 0.7809\n",
      "Epoch: 058, Loss: 0.6417, Val: 0.7624, Test: 0.7802\n",
      "Epoch: 059, Loss: 0.6396, Val: 0.7648, Test: 0.7821\n",
      "Epoch: 060, Loss: 0.6369, Val: 0.7640, Test: 0.7828\n",
      "Epoch: 061, Loss: 0.6362, Val: 0.7602, Test: 0.7814\n",
      "Epoch: 062, Loss: 0.6403, Val: 0.7637, Test: 0.7842\n",
      "Epoch: 063, Loss: 0.6381, Val: 0.7620, Test: 0.7848\n",
      "Epoch: 064, Loss: 0.6378, Val: 0.7615, Test: 0.7854\n",
      "Epoch: 065, Loss: 0.6347, Val: 0.7633, Test: 0.7879\n",
      "Epoch: 066, Loss: 0.6337, Val: 0.7639, Test: 0.7903\n",
      "Epoch: 067, Loss: 0.6325, Val: 0.7642, Test: 0.7933\n",
      "Epoch: 068, Loss: 0.6295, Val: 0.7654, Test: 0.7968\n",
      "Epoch: 069, Loss: 0.6285, Val: 0.7674, Test: 0.8009\n",
      "Epoch: 070, Loss: 0.6295, Val: 0.7724, Test: 0.8057\n",
      "Epoch: 071, Loss: 0.6278, Val: 0.7757, Test: 0.8109\n",
      "Epoch: 072, Loss: 0.6264, Val: 0.7805, Test: 0.8162\n",
      "Epoch: 073, Loss: 0.6211, Val: 0.7861, Test: 0.8221\n",
      "Epoch: 074, Loss: 0.6179, Val: 0.7924, Test: 0.8276\n",
      "Epoch: 075, Loss: 0.6199, Val: 0.7982, Test: 0.8314\n",
      "Epoch: 076, Loss: 0.6163, Val: 0.8032, Test: 0.8361\n",
      "Epoch: 077, Loss: 0.6150, Val: 0.8057, Test: 0.8394\n",
      "Epoch: 078, Loss: 0.6132, Val: 0.8089, Test: 0.8414\n",
      "Epoch: 079, Loss: 0.6148, Val: 0.8125, Test: 0.8455\n",
      "Epoch: 080, Loss: 0.6123, Val: 0.8170, Test: 0.8496\n",
      "Epoch: 081, Loss: 0.6106, Val: 0.8147, Test: 0.8475\n",
      "Epoch: 082, Loss: 0.6120, Val: 0.8213, Test: 0.8530\n",
      "Epoch: 083, Loss: 0.6113, Val: 0.8258, Test: 0.8565\n",
      "Epoch: 084, Loss: 0.6060, Val: 0.8187, Test: 0.8526\n",
      "Epoch: 085, Loss: 0.6058, Val: 0.8225, Test: 0.8549\n",
      "Epoch: 086, Loss: 0.6063, Val: 0.8310, Test: 0.8605\n",
      "Epoch: 087, Loss: 0.6026, Val: 0.8271, Test: 0.8597\n",
      "Epoch: 088, Loss: 0.6031, Val: 0.8221, Test: 0.8566\n",
      "Epoch: 089, Loss: 0.6001, Val: 0.8246, Test: 0.8583\n",
      "Epoch: 090, Loss: 0.6045, Val: 0.8292, Test: 0.8626\n",
      "Epoch: 091, Loss: 0.5956, Val: 0.8272, Test: 0.8619\n",
      "Epoch: 092, Loss: 0.5972, Val: 0.8256, Test: 0.8625\n",
      "Epoch: 093, Loss: 0.5962, Val: 0.8255, Test: 0.8628\n",
      "Epoch: 094, Loss: 0.5966, Val: 0.8248, Test: 0.8637\n",
      "Epoch: 095, Loss: 0.5987, Val: 0.8275, Test: 0.8665\n",
      "Epoch: 096, Loss: 0.6026, Val: 0.8317, Test: 0.8707\n",
      "Epoch: 097, Loss: 0.5911, Val: 0.8281, Test: 0.8681\n",
      "Epoch: 098, Loss: 0.5913, Val: 0.8244, Test: 0.8657\n",
      "Epoch: 099, Loss: 0.5931, Val: 0.8312, Test: 0.8707\n",
      "Epoch: 100, Loss: 0.5911, Val: 0.8368, Test: 0.8742\n",
      "Final Test: 0.8742\n"
     ]
    }
   ],
   "source": [
    "best_val_auc = final_test_auc = 0\n",
    "for epoch in range(1, 101):\n",
    "    loss = train()\n",
    "    val_auc = test(val_data)\n",
    "    test_auc = test(test_data)\n",
    "    if val_auc > best_val_auc:\n",
    "        best_val = val_auc\n",
    "        final_test_auc = test_auc\n",
    "    print(f'Epoch: {epoch:03d}, Loss: {loss:.4f}, Val: {val_auc:.4f}, '\n",
    "          f'Test: {test_auc:.4f}')\n",
    "\n",
    "print(f'Final Test: {final_test_auc:.4f}')\n"
   ]
  },
  {
   "cell_type": "code",
   "execution_count": null,
   "id": "d04e8dfa",
   "metadata": {
    "id": "d04e8dfa"
   },
   "outputs": [],
   "source": []
  }
 ],
 "metadata": {
  "accelerator": "GPU",
  "colab": {
   "collapsed_sections": [],
   "provenance": []
  },
  "gpuClass": "standard",
  "kernelspec": {
   "display_name": "Python 3 (ipykernel)",
   "language": "python",
   "name": "python3"
  },
  "language_info": {
   "codemirror_mode": {
    "name": "ipython",
    "version": 3
   },
   "file_extension": ".py",
   "mimetype": "text/x-python",
   "name": "python",
   "nbconvert_exporter": "python",
   "pygments_lexer": "ipython3",
   "version": "3.9.19"
  }
 },
 "nbformat": 4,
 "nbformat_minor": 5
}
